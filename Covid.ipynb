{
 "cells": [
  {
   "cell_type": "code",
   "execution_count": 28,
   "metadata": {},
   "outputs": [
    {
     "name": "stdout",
     "output_type": "stream",
     "text": [
      "<class 'pandas.core.frame.DataFrame'>\n",
      "RangeIndex: 15086 entries, 0 to 15085\n",
      "Data columns (total 9 columns):\n",
      " #   Column                    Non-Null Count  Dtype \n",
      "---  ------                    --------------  ----- \n",
      " 0   Sno                       15086 non-null  int64 \n",
      " 1   Date                      15086 non-null  object\n",
      " 2   Time                      15086 non-null  object\n",
      " 3   State/UnionTerritory      15086 non-null  object\n",
      " 4   ConfirmedIndianNational   15086 non-null  object\n",
      " 5   ConfirmedForeignNational  15086 non-null  object\n",
      " 6   Cured                     15086 non-null  int64 \n",
      " 7   Deaths                    15086 non-null  int64 \n",
      " 8   Confirmed                 15086 non-null  int64 \n",
      "dtypes: int64(4), object(5)\n",
      "memory usage: 1.0+ MB\n"
     ]
    }
   ],
   "source": [
    "import pandas as pd\n",
    "import numpy as np\n",
    "import matplotlib.pyplot as plt\n",
    "import seaborn as sns\n",
    "import plotly.express as px\n",
    "from plotly.subplots import make_subplots\n",
    "from datetime import datetime\n",
    "\n",
    "covid_df=pd.read_csv(\"covid_19_india.csv\")\n",
    "covid_df.info()\n"
   ]
  },
  {
   "cell_type": "code",
   "execution_count": null,
   "metadata": {},
   "outputs": [
    {
     "data": {
      "text/html": [
       "<div>\n",
       "<style scoped>\n",
       "    .dataframe tbody tr th:only-of-type {\n",
       "        vertical-align: middle;\n",
       "    }\n",
       "\n",
       "    .dataframe tbody tr th {\n",
       "        vertical-align: top;\n",
       "    }\n",
       "\n",
       "    .dataframe thead th {\n",
       "        text-align: right;\n",
       "    }\n",
       "</style>\n",
       "<table border=\"1\" class=\"dataframe\">\n",
       "  <thead>\n",
       "    <tr style=\"text-align: right;\">\n",
       "      <th></th>\n",
       "      <th>Sno</th>\n",
       "      <th>Cured</th>\n",
       "      <th>Deaths</th>\n",
       "      <th>Confirmed</th>\n",
       "    </tr>\n",
       "  </thead>\n",
       "  <tbody>\n",
       "    <tr>\n",
       "      <th>count</th>\n",
       "      <td>15086.000000</td>\n",
       "      <td>1.508600e+04</td>\n",
       "      <td>15086.000000</td>\n",
       "      <td>1.508600e+04</td>\n",
       "    </tr>\n",
       "    <tr>\n",
       "      <th>mean</th>\n",
       "      <td>7543.500000</td>\n",
       "      <td>1.747937e+05</td>\n",
       "      <td>2721.084449</td>\n",
       "      <td>1.942820e+05</td>\n",
       "    </tr>\n",
       "    <tr>\n",
       "      <th>std</th>\n",
       "      <td>4355.097416</td>\n",
       "      <td>3.648330e+05</td>\n",
       "      <td>7182.672358</td>\n",
       "      <td>4.095184e+05</td>\n",
       "    </tr>\n",
       "    <tr>\n",
       "      <th>min</th>\n",
       "      <td>1.000000</td>\n",
       "      <td>0.000000e+00</td>\n",
       "      <td>0.000000</td>\n",
       "      <td>0.000000e+00</td>\n",
       "    </tr>\n",
       "    <tr>\n",
       "      <th>25%</th>\n",
       "      <td>3772.250000</td>\n",
       "      <td>1.685000e+03</td>\n",
       "      <td>12.000000</td>\n",
       "      <td>2.935500e+03</td>\n",
       "    </tr>\n",
       "    <tr>\n",
       "      <th>50%</th>\n",
       "      <td>7543.500000</td>\n",
       "      <td>1.964700e+04</td>\n",
       "      <td>364.000000</td>\n",
       "      <td>2.608150e+04</td>\n",
       "    </tr>\n",
       "    <tr>\n",
       "      <th>75%</th>\n",
       "      <td>11314.750000</td>\n",
       "      <td>2.087552e+05</td>\n",
       "      <td>2170.000000</td>\n",
       "      <td>2.216012e+05</td>\n",
       "    </tr>\n",
       "    <tr>\n",
       "      <th>max</th>\n",
       "      <td>15086.000000</td>\n",
       "      <td>4.927480e+06</td>\n",
       "      <td>83777.000000</td>\n",
       "      <td>5.433506e+06</td>\n",
       "    </tr>\n",
       "  </tbody>\n",
       "</table>\n",
       "</div>"
      ],
      "text/plain": [
       "                Sno         Cured        Deaths     Confirmed\n",
       "count  15086.000000  1.508600e+04  15086.000000  1.508600e+04\n",
       "mean    7543.500000  1.747937e+05   2721.084449  1.942820e+05\n",
       "std     4355.097416  3.648330e+05   7182.672358  4.095184e+05\n",
       "min        1.000000  0.000000e+00      0.000000  0.000000e+00\n",
       "25%     3772.250000  1.685000e+03     12.000000  2.935500e+03\n",
       "50%     7543.500000  1.964700e+04    364.000000  2.608150e+04\n",
       "75%    11314.750000  2.087552e+05   2170.000000  2.216012e+05\n",
       "max    15086.000000  4.927480e+06  83777.000000  5.433506e+06"
      ]
     },
     "execution_count": 19,
     "metadata": {},
     "output_type": "execute_result"
    }
   ],
   "source": [
    "covid_df.describe()"
   ]
  },
  {
   "cell_type": "code",
   "execution_count": null,
   "metadata": {},
   "outputs": [
    {
     "name": "stdout",
     "output_type": "stream",
     "text": [
      "<class 'pandas.core.frame.DataFrame'>\n",
      "RangeIndex: 7845 entries, 0 to 7844\n",
      "Data columns (total 24 columns):\n",
      " #   Column                               Non-Null Count  Dtype  \n",
      "---  ------                               --------------  -----  \n",
      " 0   Updated On                           7845 non-null   object \n",
      " 1   State                                7845 non-null   object \n",
      " 2   Total Doses Administered             7621 non-null   float64\n",
      " 3   Sessions                             7621 non-null   float64\n",
      " 4    Sites                               7621 non-null   float64\n",
      " 5   First Dose Administered              7621 non-null   float64\n",
      " 6   Second Dose Administered             7621 non-null   float64\n",
      " 7   Male (Doses Administered)            7461 non-null   float64\n",
      " 8   Female (Doses Administered)          7461 non-null   float64\n",
      " 9   Transgender (Doses Administered)     7461 non-null   float64\n",
      " 10   Covaxin (Doses Administered)        7621 non-null   float64\n",
      " 11  CoviShield (Doses Administered)      7621 non-null   float64\n",
      " 12  Sputnik V (Doses Administered)       2995 non-null   float64\n",
      " 13  AEFI                                 5438 non-null   float64\n",
      " 14  18-44 Years (Doses Administered)     1702 non-null   float64\n",
      " 15  45-60 Years (Doses Administered)     1702 non-null   float64\n",
      " 16  60+ Years (Doses Administered)       1702 non-null   float64\n",
      " 17  18-44 Years(Individuals Vaccinated)  3733 non-null   float64\n",
      " 18  45-60 Years(Individuals Vaccinated)  3734 non-null   float64\n",
      " 19  60+ Years(Individuals Vaccinated)    3734 non-null   float64\n",
      " 20  Male(Individuals Vaccinated)         160 non-null    float64\n",
      " 21  Female(Individuals Vaccinated)       160 non-null    float64\n",
      " 22  Transgender(Individuals Vaccinated)  160 non-null    float64\n",
      " 23  Total Individuals Vaccinated         5919 non-null   float64\n",
      "dtypes: float64(22), object(2)\n",
      "memory usage: 1.4+ MB\n"
     ]
    }
   ],
   "source": [
    "vaccine_df = pd.read_csv(\"covid_vaccine_statewise.csv\")\n",
    "\n",
    "vaccine_df.info()"
   ]
  },
  {
   "cell_type": "code",
   "execution_count": 25,
   "metadata": {},
   "outputs": [
    {
     "data": {
      "text/html": [
       "<div>\n",
       "<style scoped>\n",
       "    .dataframe tbody tr th:only-of-type {\n",
       "        vertical-align: middle;\n",
       "    }\n",
       "\n",
       "    .dataframe tbody tr th {\n",
       "        vertical-align: top;\n",
       "    }\n",
       "\n",
       "    .dataframe thead th {\n",
       "        text-align: right;\n",
       "    }\n",
       "</style>\n",
       "<table border=\"1\" class=\"dataframe\">\n",
       "  <thead>\n",
       "    <tr style=\"text-align: right;\">\n",
       "      <th></th>\n",
       "      <th>Total Doses Administered</th>\n",
       "      <th>Sessions</th>\n",
       "      <th>Sites</th>\n",
       "      <th>First Dose Administered</th>\n",
       "      <th>Second Dose Administered</th>\n",
       "      <th>Male (Doses Administered)</th>\n",
       "      <th>Female (Doses Administered)</th>\n",
       "      <th>Transgender (Doses Administered)</th>\n",
       "      <th>Covaxin (Doses Administered)</th>\n",
       "      <th>CoviShield (Doses Administered)</th>\n",
       "      <th>...</th>\n",
       "      <th>18-44 Years (Doses Administered)</th>\n",
       "      <th>45-60 Years (Doses Administered)</th>\n",
       "      <th>60+ Years (Doses Administered)</th>\n",
       "      <th>18-44 Years(Individuals Vaccinated)</th>\n",
       "      <th>45-60 Years(Individuals Vaccinated)</th>\n",
       "      <th>60+ Years(Individuals Vaccinated)</th>\n",
       "      <th>Male(Individuals Vaccinated)</th>\n",
       "      <th>Female(Individuals Vaccinated)</th>\n",
       "      <th>Transgender(Individuals Vaccinated)</th>\n",
       "      <th>Total Individuals Vaccinated</th>\n",
       "    </tr>\n",
       "  </thead>\n",
       "  <tbody>\n",
       "    <tr>\n",
       "      <th>count</th>\n",
       "      <td>7.621000e+03</td>\n",
       "      <td>7.621000e+03</td>\n",
       "      <td>7621.000000</td>\n",
       "      <td>7.621000e+03</td>\n",
       "      <td>7.621000e+03</td>\n",
       "      <td>7.461000e+03</td>\n",
       "      <td>7.461000e+03</td>\n",
       "      <td>7461.000000</td>\n",
       "      <td>7.621000e+03</td>\n",
       "      <td>7.621000e+03</td>\n",
       "      <td>...</td>\n",
       "      <td>1.702000e+03</td>\n",
       "      <td>1.702000e+03</td>\n",
       "      <td>1.702000e+03</td>\n",
       "      <td>3.733000e+03</td>\n",
       "      <td>3.734000e+03</td>\n",
       "      <td>3.734000e+03</td>\n",
       "      <td>1.600000e+02</td>\n",
       "      <td>1.600000e+02</td>\n",
       "      <td>160.000000</td>\n",
       "      <td>5.919000e+03</td>\n",
       "    </tr>\n",
       "    <tr>\n",
       "      <th>mean</th>\n",
       "      <td>9.188171e+06</td>\n",
       "      <td>4.792358e+05</td>\n",
       "      <td>2282.872064</td>\n",
       "      <td>7.414415e+06</td>\n",
       "      <td>1.773755e+06</td>\n",
       "      <td>3.620156e+06</td>\n",
       "      <td>3.168416e+06</td>\n",
       "      <td>1162.978019</td>\n",
       "      <td>1.044669e+06</td>\n",
       "      <td>8.126553e+06</td>\n",
       "      <td>...</td>\n",
       "      <td>8.773958e+06</td>\n",
       "      <td>7.442161e+06</td>\n",
       "      <td>5.641605e+06</td>\n",
       "      <td>1.395895e+06</td>\n",
       "      <td>2.916515e+06</td>\n",
       "      <td>2.627444e+06</td>\n",
       "      <td>4.461687e+07</td>\n",
       "      <td>3.951018e+07</td>\n",
       "      <td>12370.543750</td>\n",
       "      <td>4.547842e+06</td>\n",
       "    </tr>\n",
       "    <tr>\n",
       "      <th>std</th>\n",
       "      <td>3.746180e+07</td>\n",
       "      <td>1.911511e+06</td>\n",
       "      <td>7275.973730</td>\n",
       "      <td>2.995209e+07</td>\n",
       "      <td>7.570382e+06</td>\n",
       "      <td>1.737938e+07</td>\n",
       "      <td>1.515310e+07</td>\n",
       "      <td>5931.353995</td>\n",
       "      <td>4.452259e+06</td>\n",
       "      <td>3.298414e+07</td>\n",
       "      <td>...</td>\n",
       "      <td>2.660829e+07</td>\n",
       "      <td>2.225999e+07</td>\n",
       "      <td>1.681650e+07</td>\n",
       "      <td>5.501454e+06</td>\n",
       "      <td>9.567607e+06</td>\n",
       "      <td>8.192225e+06</td>\n",
       "      <td>3.950749e+07</td>\n",
       "      <td>3.417684e+07</td>\n",
       "      <td>12485.026753</td>\n",
       "      <td>1.834182e+07</td>\n",
       "    </tr>\n",
       "    <tr>\n",
       "      <th>min</th>\n",
       "      <td>7.000000e+00</td>\n",
       "      <td>0.000000e+00</td>\n",
       "      <td>0.000000</td>\n",
       "      <td>7.000000e+00</td>\n",
       "      <td>0.000000e+00</td>\n",
       "      <td>0.000000e+00</td>\n",
       "      <td>2.000000e+00</td>\n",
       "      <td>0.000000</td>\n",
       "      <td>0.000000e+00</td>\n",
       "      <td>7.000000e+00</td>\n",
       "      <td>...</td>\n",
       "      <td>2.662400e+04</td>\n",
       "      <td>1.681500e+04</td>\n",
       "      <td>9.994000e+03</td>\n",
       "      <td>1.059000e+03</td>\n",
       "      <td>1.136000e+03</td>\n",
       "      <td>5.580000e+02</td>\n",
       "      <td>2.375700e+04</td>\n",
       "      <td>2.451700e+04</td>\n",
       "      <td>2.000000</td>\n",
       "      <td>7.000000e+00</td>\n",
       "    </tr>\n",
       "    <tr>\n",
       "      <th>25%</th>\n",
       "      <td>1.356570e+05</td>\n",
       "      <td>6.004000e+03</td>\n",
       "      <td>69.000000</td>\n",
       "      <td>1.166320e+05</td>\n",
       "      <td>1.283100e+04</td>\n",
       "      <td>5.655500e+04</td>\n",
       "      <td>5.210700e+04</td>\n",
       "      <td>8.000000</td>\n",
       "      <td>0.000000e+00</td>\n",
       "      <td>1.331340e+05</td>\n",
       "      <td>...</td>\n",
       "      <td>4.344842e+05</td>\n",
       "      <td>2.326275e+05</td>\n",
       "      <td>1.285605e+05</td>\n",
       "      <td>5.655400e+04</td>\n",
       "      <td>9.248225e+04</td>\n",
       "      <td>5.615975e+04</td>\n",
       "      <td>5.739350e+06</td>\n",
       "      <td>5.023407e+06</td>\n",
       "      <td>1278.750000</td>\n",
       "      <td>7.427550e+04</td>\n",
       "    </tr>\n",
       "    <tr>\n",
       "      <th>50%</th>\n",
       "      <td>8.182020e+05</td>\n",
       "      <td>4.547000e+04</td>\n",
       "      <td>597.000000</td>\n",
       "      <td>6.614590e+05</td>\n",
       "      <td>1.388180e+05</td>\n",
       "      <td>3.897850e+05</td>\n",
       "      <td>3.342380e+05</td>\n",
       "      <td>113.000000</td>\n",
       "      <td>1.185100e+04</td>\n",
       "      <td>7.567360e+05</td>\n",
       "      <td>...</td>\n",
       "      <td>3.095970e+06</td>\n",
       "      <td>2.695938e+06</td>\n",
       "      <td>1.805696e+06</td>\n",
       "      <td>2.947270e+05</td>\n",
       "      <td>8.330395e+05</td>\n",
       "      <td>7.887425e+05</td>\n",
       "      <td>3.716590e+07</td>\n",
       "      <td>3.365402e+07</td>\n",
       "      <td>8007.500000</td>\n",
       "      <td>4.022880e+05</td>\n",
       "    </tr>\n",
       "    <tr>\n",
       "      <th>75%</th>\n",
       "      <td>6.625243e+06</td>\n",
       "      <td>3.428690e+05</td>\n",
       "      <td>1708.000000</td>\n",
       "      <td>5.387805e+06</td>\n",
       "      <td>1.166434e+06</td>\n",
       "      <td>2.735777e+06</td>\n",
       "      <td>2.561513e+06</td>\n",
       "      <td>800.000000</td>\n",
       "      <td>7.579300e+05</td>\n",
       "      <td>6.007817e+06</td>\n",
       "      <td>...</td>\n",
       "      <td>7.366241e+06</td>\n",
       "      <td>6.969726e+06</td>\n",
       "      <td>5.294763e+06</td>\n",
       "      <td>9.105160e+05</td>\n",
       "      <td>2.499280e+06</td>\n",
       "      <td>2.337874e+06</td>\n",
       "      <td>7.441663e+07</td>\n",
       "      <td>6.685368e+07</td>\n",
       "      <td>19851.000000</td>\n",
       "      <td>3.501562e+06</td>\n",
       "    </tr>\n",
       "    <tr>\n",
       "      <th>max</th>\n",
       "      <td>5.132284e+08</td>\n",
       "      <td>3.501031e+07</td>\n",
       "      <td>73933.000000</td>\n",
       "      <td>4.001504e+08</td>\n",
       "      <td>1.130780e+08</td>\n",
       "      <td>2.701636e+08</td>\n",
       "      <td>2.395186e+08</td>\n",
       "      <td>98275.000000</td>\n",
       "      <td>6.236742e+07</td>\n",
       "      <td>4.468251e+08</td>\n",
       "      <td>...</td>\n",
       "      <td>2.243304e+08</td>\n",
       "      <td>1.667575e+08</td>\n",
       "      <td>1.186927e+08</td>\n",
       "      <td>9.224315e+07</td>\n",
       "      <td>9.096888e+07</td>\n",
       "      <td>6.731098e+07</td>\n",
       "      <td>1.349420e+08</td>\n",
       "      <td>1.156684e+08</td>\n",
       "      <td>46462.000000</td>\n",
       "      <td>2.506569e+08</td>\n",
       "    </tr>\n",
       "  </tbody>\n",
       "</table>\n",
       "<p>8 rows × 22 columns</p>\n",
       "</div>"
      ],
      "text/plain": [
       "       Total Doses Administered      Sessions        Sites   \\\n",
       "count              7.621000e+03  7.621000e+03   7621.000000   \n",
       "mean               9.188171e+06  4.792358e+05   2282.872064   \n",
       "std                3.746180e+07  1.911511e+06   7275.973730   \n",
       "min                7.000000e+00  0.000000e+00      0.000000   \n",
       "25%                1.356570e+05  6.004000e+03     69.000000   \n",
       "50%                8.182020e+05  4.547000e+04    597.000000   \n",
       "75%                6.625243e+06  3.428690e+05   1708.000000   \n",
       "max                5.132284e+08  3.501031e+07  73933.000000   \n",
       "\n",
       "       First Dose Administered  Second Dose Administered  \\\n",
       "count             7.621000e+03              7.621000e+03   \n",
       "mean              7.414415e+06              1.773755e+06   \n",
       "std               2.995209e+07              7.570382e+06   \n",
       "min               7.000000e+00              0.000000e+00   \n",
       "25%               1.166320e+05              1.283100e+04   \n",
       "50%               6.614590e+05              1.388180e+05   \n",
       "75%               5.387805e+06              1.166434e+06   \n",
       "max               4.001504e+08              1.130780e+08   \n",
       "\n",
       "       Male (Doses Administered)  Female (Doses Administered)  \\\n",
       "count               7.461000e+03                 7.461000e+03   \n",
       "mean                3.620156e+06                 3.168416e+06   \n",
       "std                 1.737938e+07                 1.515310e+07   \n",
       "min                 0.000000e+00                 2.000000e+00   \n",
       "25%                 5.655500e+04                 5.210700e+04   \n",
       "50%                 3.897850e+05                 3.342380e+05   \n",
       "75%                 2.735777e+06                 2.561513e+06   \n",
       "max                 2.701636e+08                 2.395186e+08   \n",
       "\n",
       "       Transgender (Doses Administered)   Covaxin (Doses Administered)  \\\n",
       "count                       7461.000000                   7.621000e+03   \n",
       "mean                        1162.978019                   1.044669e+06   \n",
       "std                         5931.353995                   4.452259e+06   \n",
       "min                            0.000000                   0.000000e+00   \n",
       "25%                            8.000000                   0.000000e+00   \n",
       "50%                          113.000000                   1.185100e+04   \n",
       "75%                          800.000000                   7.579300e+05   \n",
       "max                        98275.000000                   6.236742e+07   \n",
       "\n",
       "       CoviShield (Doses Administered)  ...  18-44 Years (Doses Administered)  \\\n",
       "count                     7.621000e+03  ...                      1.702000e+03   \n",
       "mean                      8.126553e+06  ...                      8.773958e+06   \n",
       "std                       3.298414e+07  ...                      2.660829e+07   \n",
       "min                       7.000000e+00  ...                      2.662400e+04   \n",
       "25%                       1.331340e+05  ...                      4.344842e+05   \n",
       "50%                       7.567360e+05  ...                      3.095970e+06   \n",
       "75%                       6.007817e+06  ...                      7.366241e+06   \n",
       "max                       4.468251e+08  ...                      2.243304e+08   \n",
       "\n",
       "       45-60 Years (Doses Administered)  60+ Years (Doses Administered)  \\\n",
       "count                      1.702000e+03                    1.702000e+03   \n",
       "mean                       7.442161e+06                    5.641605e+06   \n",
       "std                        2.225999e+07                    1.681650e+07   \n",
       "min                        1.681500e+04                    9.994000e+03   \n",
       "25%                        2.326275e+05                    1.285605e+05   \n",
       "50%                        2.695938e+06                    1.805696e+06   \n",
       "75%                        6.969726e+06                    5.294763e+06   \n",
       "max                        1.667575e+08                    1.186927e+08   \n",
       "\n",
       "       18-44 Years(Individuals Vaccinated)  \\\n",
       "count                         3.733000e+03   \n",
       "mean                          1.395895e+06   \n",
       "std                           5.501454e+06   \n",
       "min                           1.059000e+03   \n",
       "25%                           5.655400e+04   \n",
       "50%                           2.947270e+05   \n",
       "75%                           9.105160e+05   \n",
       "max                           9.224315e+07   \n",
       "\n",
       "       45-60 Years(Individuals Vaccinated)  60+ Years(Individuals Vaccinated)  \\\n",
       "count                         3.734000e+03                       3.734000e+03   \n",
       "mean                          2.916515e+06                       2.627444e+06   \n",
       "std                           9.567607e+06                       8.192225e+06   \n",
       "min                           1.136000e+03                       5.580000e+02   \n",
       "25%                           9.248225e+04                       5.615975e+04   \n",
       "50%                           8.330395e+05                       7.887425e+05   \n",
       "75%                           2.499280e+06                       2.337874e+06   \n",
       "max                           9.096888e+07                       6.731098e+07   \n",
       "\n",
       "       Male(Individuals Vaccinated)  Female(Individuals Vaccinated)  \\\n",
       "count                  1.600000e+02                    1.600000e+02   \n",
       "mean                   4.461687e+07                    3.951018e+07   \n",
       "std                    3.950749e+07                    3.417684e+07   \n",
       "min                    2.375700e+04                    2.451700e+04   \n",
       "25%                    5.739350e+06                    5.023407e+06   \n",
       "50%                    3.716590e+07                    3.365402e+07   \n",
       "75%                    7.441663e+07                    6.685368e+07   \n",
       "max                    1.349420e+08                    1.156684e+08   \n",
       "\n",
       "       Transgender(Individuals Vaccinated)  Total Individuals Vaccinated  \n",
       "count                           160.000000                  5.919000e+03  \n",
       "mean                          12370.543750                  4.547842e+06  \n",
       "std                           12485.026753                  1.834182e+07  \n",
       "min                               2.000000                  7.000000e+00  \n",
       "25%                            1278.750000                  7.427550e+04  \n",
       "50%                            8007.500000                  4.022880e+05  \n",
       "75%                           19851.000000                  3.501562e+06  \n",
       "max                           46462.000000                  2.506569e+08  \n",
       "\n",
       "[8 rows x 22 columns]"
      ]
     },
     "execution_count": 25,
     "metadata": {},
     "output_type": "execute_result"
    }
   ],
   "source": [
    "\n",
    "vaccine_df.describe()"
   ]
  },
  {
   "cell_type": "code",
   "execution_count": 37,
   "metadata": {},
   "outputs": [
    {
     "data": {
      "text/html": [
       "<div>\n",
       "<style scoped>\n",
       "    .dataframe tbody tr th:only-of-type {\n",
       "        vertical-align: middle;\n",
       "    }\n",
       "\n",
       "    .dataframe tbody tr th {\n",
       "        vertical-align: top;\n",
       "    }\n",
       "\n",
       "    .dataframe thead th {\n",
       "        text-align: right;\n",
       "    }\n",
       "</style>\n",
       "<table border=\"1\" class=\"dataframe\">\n",
       "  <thead>\n",
       "    <tr style=\"text-align: right;\">\n",
       "      <th></th>\n",
       "      <th>Date</th>\n",
       "      <th>State/UnionTerritory</th>\n",
       "      <th>Cured</th>\n",
       "      <th>Deaths</th>\n",
       "      <th>Confirmed</th>\n",
       "    </tr>\n",
       "  </thead>\n",
       "  <tbody>\n",
       "    <tr>\n",
       "      <th>0</th>\n",
       "      <td>2020-01-30</td>\n",
       "      <td>Kerala</td>\n",
       "      <td>0</td>\n",
       "      <td>0</td>\n",
       "      <td>1</td>\n",
       "    </tr>\n",
       "    <tr>\n",
       "      <th>1</th>\n",
       "      <td>2020-01-31</td>\n",
       "      <td>Kerala</td>\n",
       "      <td>0</td>\n",
       "      <td>0</td>\n",
       "      <td>1</td>\n",
       "    </tr>\n",
       "    <tr>\n",
       "      <th>2</th>\n",
       "      <td>2020-02-01</td>\n",
       "      <td>Kerala</td>\n",
       "      <td>0</td>\n",
       "      <td>0</td>\n",
       "      <td>2</td>\n",
       "    </tr>\n",
       "    <tr>\n",
       "      <th>3</th>\n",
       "      <td>2020-02-02</td>\n",
       "      <td>Kerala</td>\n",
       "      <td>0</td>\n",
       "      <td>0</td>\n",
       "      <td>3</td>\n",
       "    </tr>\n",
       "    <tr>\n",
       "      <th>4</th>\n",
       "      <td>2020-02-03</td>\n",
       "      <td>Kerala</td>\n",
       "      <td>0</td>\n",
       "      <td>0</td>\n",
       "      <td>3</td>\n",
       "    </tr>\n",
       "  </tbody>\n",
       "</table>\n",
       "</div>"
      ],
      "text/plain": [
       "         Date State/UnionTerritory  Cured  Deaths  Confirmed\n",
       "0  2020-01-30               Kerala      0       0          1\n",
       "1  2020-01-31               Kerala      0       0          1\n",
       "2  2020-02-01               Kerala      0       0          2\n",
       "3  2020-02-02               Kerala      0       0          3\n",
       "4  2020-02-03               Kerala      0       0          3"
      ]
     },
     "execution_count": 37,
     "metadata": {},
     "output_type": "execute_result"
    }
   ],
   "source": [
    "covid_df.head()"
   ]
  },
  {
   "cell_type": "code",
   "execution_count": 39,
   "metadata": {},
   "outputs": [],
   "source": [
    "covid_df['Date']=pd.to_datetime(covid_df['Date'],format='%Y-%m-%d')\n"
   ]
  },
  {
   "cell_type": "code",
   "execution_count": 40,
   "metadata": {},
   "outputs": [
    {
     "name": "stdout",
     "output_type": "stream",
     "text": [
      "<class 'pandas.core.frame.DataFrame'>\n",
      "RangeIndex: 15086 entries, 0 to 15085\n",
      "Data columns (total 5 columns):\n",
      " #   Column                Non-Null Count  Dtype         \n",
      "---  ------                --------------  -----         \n",
      " 0   Date                  15086 non-null  datetime64[ns]\n",
      " 1   State/UnionTerritory  15086 non-null  object        \n",
      " 2   Cured                 15086 non-null  int64         \n",
      " 3   Deaths                15086 non-null  int64         \n",
      " 4   Confirmed             15086 non-null  int64         \n",
      "dtypes: datetime64[ns](1), int64(3), object(1)\n",
      "memory usage: 589.4+ KB\n"
     ]
    }
   ],
   "source": [
    "covid_df.info()"
   ]
  },
  {
   "cell_type": "code",
   "execution_count": 43,
   "metadata": {},
   "outputs": [
    {
     "name": "stdout",
     "output_type": "stream",
     "text": [
      "<class 'pandas.core.frame.DataFrame'>\n",
      "RangeIndex: 15086 entries, 0 to 15085\n",
      "Data columns (total 6 columns):\n",
      " #   Column                Non-Null Count  Dtype         \n",
      "---  ------                --------------  -----         \n",
      " 0   Date                  15086 non-null  datetime64[ns]\n",
      " 1   State/UnionTerritory  15086 non-null  object        \n",
      " 2   Cured                 15086 non-null  int64         \n",
      " 3   Deaths                15086 non-null  int64         \n",
      " 4   Confirmed             15086 non-null  int64         \n",
      " 5   Active_Cases          15086 non-null  int64         \n",
      "dtypes: datetime64[ns](1), int64(4), object(1)\n",
      "memory usage: 707.3+ KB\n"
     ]
    }
   ],
   "source": [
    "#Active cases\n",
    "covid_df['Active_Cases']=covid_df['Confirmed']-(covid_df['Cured']+covid_df['Deaths'])\n",
    "covid_df.info()"
   ]
  },
  {
   "cell_type": "code",
   "execution_count": 48,
   "metadata": {},
   "outputs": [
    {
     "name": "stdout",
     "output_type": "stream",
     "text": [
      "                                          Confirmed    Cured  Deaths\n",
      "State/UnionTerritory                                                \n",
      "Andaman and Nicobar Islands                    6674     6359      92\n",
      "Andhra Pradesh                              1475372  1254291    9580\n",
      "Arunachal Pradesh                             22462    19977      88\n",
      "Assam                                        340858   290774    2344\n",
      "Bihar                                        664115   595377    4039\n",
      "Cases being reassigned to states               9265        0       0\n",
      "Chandigarh                                    56513    48831     647\n",
      "Chhattisgarh                                 925531   823113   12036\n",
      "Dadra and Nagar Haveli and Daman and Diu       9652     8944       4\n",
      "Daman & Diu                                       2        0       0\n",
      "Delhi                                       1402873  1329899   22111\n",
      "Goa                                          138776   112633    2197\n",
      "Gujarat                                      766201   660489    9269\n",
      "Haryana                                      709689   626852    6923\n",
      "Himachal Pradesh                             166678   129330    2460\n",
      "Jammu and Kashmir                            251919   197701    3293\n",
      "Jharkhand                                    320934   284805    4601\n",
      "Karnataka                                   2272374  1674487   22838\n",
      "Kerala                                      2200706  1846105    6612\n",
      "Ladakh                                        16784    15031     170\n",
      "Lakshadweep                                    5212     3915      15\n",
      "Madhya Pradesh                               742718   652612    7139\n",
      "Maharashtra                                 5433506  4927480   83777\n",
      "Manipur                                       40683    33466     612\n",
      "Meghalaya                                     24872    19185     355\n",
      "Mizoram                                        9252     7094      29\n",
      "Nagaland                                      18714    14079     228\n",
      "Odisha                                       633302   536595    2357\n",
      "Puducherry                                    87749    69060    1212\n",
      "Punjab                                       511652   427058   12317\n",
      "Rajasthan                                    879664   713129    7080\n",
      "Sikkim                                        11689     8427     212\n",
      "Tamil Nadu                                  1664350  1403052   18369\n",
      "Telangana                                    536766   485644    3012\n",
      "Telengana                                    443360   362160    2312\n",
      "Tripura                                       42776    36402     450\n",
      "Unassigned                                       77        0       0\n",
      "Uttar Pradesh                               1637663  1483249   18072\n",
      "Uttarakhand                                  295790   214426    5132\n",
      "West Bengal                                 1171861  1026492   13576\n"
     ]
    }
   ],
   "source": [
    "statewise = pd.pivot_table(covid_df, values=[\"Confirmed\",\"Deaths\",\"Cured\"], \n",
    "                           index=\"State/UnionTerritory\", aggfunc=max)\n",
    "print(statewise)"
   ]
  },
  {
   "cell_type": "code",
   "execution_count": 61,
   "metadata": {},
   "outputs": [
    {
     "data": {
      "text/html": [
       "<div>\n",
       "<style scoped>\n",
       "    .dataframe tbody tr th:only-of-type {\n",
       "        vertical-align: middle;\n",
       "    }\n",
       "\n",
       "    .dataframe tbody tr th {\n",
       "        vertical-align: top;\n",
       "    }\n",
       "\n",
       "    .dataframe thead th {\n",
       "        text-align: right;\n",
       "    }\n",
       "</style>\n",
       "<table border=\"1\" class=\"dataframe\">\n",
       "  <thead>\n",
       "    <tr style=\"text-align: right;\">\n",
       "      <th></th>\n",
       "      <th>Confirmed</th>\n",
       "      <th>Cured</th>\n",
       "      <th>Deaths</th>\n",
       "      <th>Recovery Rate</th>\n",
       "      <th>Mortality Rate</th>\n",
       "      <th>Recovery_Rate</th>\n",
       "      <th>Mortality_Rate</th>\n",
       "    </tr>\n",
       "    <tr>\n",
       "      <th>State/UnionTerritory</th>\n",
       "      <th></th>\n",
       "      <th></th>\n",
       "      <th></th>\n",
       "      <th></th>\n",
       "      <th></th>\n",
       "      <th></th>\n",
       "      <th></th>\n",
       "    </tr>\n",
       "  </thead>\n",
       "  <tbody>\n",
       "    <tr>\n",
       "      <th>Maharashtra</th>\n",
       "      <td>5433506</td>\n",
       "      <td>4927480</td>\n",
       "      <td>83777</td>\n",
       "      <td>90.686934</td>\n",
       "      <td>1.541859</td>\n",
       "      <td>90.686934</td>\n",
       "      <td>1.541859</td>\n",
       "    </tr>\n",
       "    <tr>\n",
       "      <th>Karnataka</th>\n",
       "      <td>2272374</td>\n",
       "      <td>1674487</td>\n",
       "      <td>22838</td>\n",
       "      <td>73.688882</td>\n",
       "      <td>1.005028</td>\n",
       "      <td>73.688882</td>\n",
       "      <td>1.005028</td>\n",
       "    </tr>\n",
       "    <tr>\n",
       "      <th>Kerala</th>\n",
       "      <td>2200706</td>\n",
       "      <td>1846105</td>\n",
       "      <td>6612</td>\n",
       "      <td>83.886944</td>\n",
       "      <td>0.300449</td>\n",
       "      <td>83.886944</td>\n",
       "      <td>0.300449</td>\n",
       "    </tr>\n",
       "    <tr>\n",
       "      <th>Tamil Nadu</th>\n",
       "      <td>1664350</td>\n",
       "      <td>1403052</td>\n",
       "      <td>18369</td>\n",
       "      <td>84.300297</td>\n",
       "      <td>1.103674</td>\n",
       "      <td>84.300297</td>\n",
       "      <td>1.103674</td>\n",
       "    </tr>\n",
       "    <tr>\n",
       "      <th>Uttar Pradesh</th>\n",
       "      <td>1637663</td>\n",
       "      <td>1483249</td>\n",
       "      <td>18072</td>\n",
       "      <td>90.571076</td>\n",
       "      <td>1.103524</td>\n",
       "      <td>90.571076</td>\n",
       "      <td>1.103524</td>\n",
       "    </tr>\n",
       "  </tbody>\n",
       "</table>\n",
       "</div>"
      ],
      "text/plain": [
       "                      Confirmed    Cured  Deaths  Recovery Rate  \\\n",
       "State/UnionTerritory                                              \n",
       "Maharashtra             5433506  4927480   83777      90.686934   \n",
       "Karnataka               2272374  1674487   22838      73.688882   \n",
       "Kerala                  2200706  1846105    6612      83.886944   \n",
       "Tamil Nadu              1664350  1403052   18369      84.300297   \n",
       "Uttar Pradesh           1637663  1483249   18072      90.571076   \n",
       "\n",
       "                      Mortality Rate  Recovery_Rate  Mortality_Rate  \n",
       "State/UnionTerritory                                                 \n",
       "Maharashtra                 1.541859      90.686934        1.541859  \n",
       "Karnataka                   1.005028      73.688882        1.005028  \n",
       "Kerala                      0.300449      83.886944        0.300449  \n",
       "Tamil Nadu                  1.103674      84.300297        1.103674  \n",
       "Uttar Pradesh               1.103524      90.571076        1.103524  "
      ]
     },
     "execution_count": 61,
     "metadata": {},
     "output_type": "execute_result"
    }
   ],
   "source": [
    "statewise[\"Recovery_Rate\"] = statewise['Cured']*100/ statewise['Confirmed']\n",
    "statewise[\"Mortality_Rate\"] = statewise['Deaths']*100/ statewise['Confirmed']\n",
    "statewise=statewise.sort_values(by=\"Confirmed\", ascending=False)\n",
    "statewise.head()"
   ]
  },
  {
   "cell_type": "code",
   "execution_count": 64,
   "metadata": {},
   "outputs": [
    {
     "data": {
      "text/html": [
       "<style type=\"text/css\">\n",
       "#T_50637_row0_col0, #T_50637_row0_col1, #T_50637_row0_col2, #T_50637_row16_col4, #T_50637_row16_col6, #T_50637_row36_col3, #T_50637_row36_col5 {\n",
       "  background-color: #ffffff;\n",
       "  color: #000000;\n",
       "}\n",
       "#T_50637_row0_col3, #T_50637_row0_col5, #T_50637_row4_col3, #T_50637_row4_col5, #T_50637_row15_col3, #T_50637_row15_col5 {\n",
       "  background-color: #e9f8f2;\n",
       "  color: #000000;\n",
       "}\n",
       "#T_50637_row0_col4, #T_50637_row0_col6 {\n",
       "  background-color: #d487b2;\n",
       "  color: #f1f1f1;\n",
       "}\n",
       "#T_50637_row1_col0, #T_50637_row31_col4, #T_50637_row31_col6 {\n",
       "  background-color: #637a2f;\n",
       "  color: #f1f1f1;\n",
       "}\n",
       "#T_50637_row1_col1 {\n",
       "  background-color: #2d7038;\n",
       "  color: #f1f1f1;\n",
       "}\n",
       "#T_50637_row1_col2, #T_50637_row5_col0, #T_50637_row5_col4, #T_50637_row5_col6, #T_50637_row6_col1 {\n",
       "  background-color: #185b48;\n",
       "  color: #f1f1f1;\n",
       "}\n",
       "#T_50637_row1_col3, #T_50637_row1_col5 {\n",
       "  background-color: #c4bdf1;\n",
       "  color: #000000;\n",
       "}\n",
       "#T_50637_row1_col4, #T_50637_row1_col6 {\n",
       "  background-color: #607a2f;\n",
       "  color: #f1f1f1;\n",
       "}\n",
       "#T_50637_row2_col0, #T_50637_row12_col4, #T_50637_row12_col6 {\n",
       "  background-color: #577a2f;\n",
       "  color: #f1f1f1;\n",
       "}\n",
       "#T_50637_row2_col1 {\n",
       "  background-color: #417731;\n",
       "  color: #f1f1f1;\n",
       "}\n",
       "#T_50637_row2_col2, #T_50637_row17_col0 {\n",
       "  background-color: #180f25;\n",
       "  color: #f1f1f1;\n",
       "}\n",
       "#T_50637_row2_col3, #T_50637_row2_col5 {\n",
       "  background-color: #cce9ef;\n",
       "  color: #000000;\n",
       "}\n",
       "#T_50637_row2_col4, #T_50637_row2_col6, #T_50637_row13_col0 {\n",
       "  background-color: #1b1c3a;\n",
       "  color: #f1f1f1;\n",
       "}\n",
       "#T_50637_row3_col0 {\n",
       "  background-color: #206840;\n",
       "  color: #f1f1f1;\n",
       "}\n",
       "#T_50637_row3_col1 {\n",
       "  background-color: #1a6046;\n",
       "  color: #f1f1f1;\n",
       "}\n",
       "#T_50637_row3_col2 {\n",
       "  background-color: #15464e;\n",
       "  color: #f1f1f1;\n",
       "}\n",
       "#T_50637_row3_col3, #T_50637_row3_col5 {\n",
       "  background-color: #cdeaef;\n",
       "  color: #000000;\n",
       "}\n",
       "#T_50637_row3_col4, #T_50637_row3_col6, #T_50637_row4_col4, #T_50637_row4_col6 {\n",
       "  background-color: #817a37;\n",
       "  color: #f1f1f1;\n",
       "}\n",
       "#T_50637_row4_col0, #T_50637_row4_col1 {\n",
       "  background-color: #1f6741;\n",
       "  color: #f1f1f1;\n",
       "}\n",
       "#T_50637_row4_col2, #T_50637_row7_col0, #T_50637_row17_col4, #T_50637_row17_col6 {\n",
       "  background-color: #15444f;\n",
       "  color: #f1f1f1;\n",
       "}\n",
       "#T_50637_row5_col1 {\n",
       "  background-color: #16554b;\n",
       "  color: #f1f1f1;\n",
       "}\n",
       "#T_50637_row5_col2, #T_50637_row14_col0 {\n",
       "  background-color: #1b1a36;\n",
       "  color: #f1f1f1;\n",
       "}\n",
       "#T_50637_row5_col3, #T_50637_row5_col5, #T_50637_row26_col3, #T_50637_row26_col5 {\n",
       "  background-color: #d0ecef;\n",
       "  color: #000000;\n",
       "}\n",
       "#T_50637_row6_col0 {\n",
       "  background-color: #16574b;\n",
       "  color: #f1f1f1;\n",
       "}\n",
       "#T_50637_row6_col2 {\n",
       "  background-color: #17584a;\n",
       "  color: #f1f1f1;\n",
       "}\n",
       "#T_50637_row6_col3, #T_50637_row6_col5 {\n",
       "  background-color: #fdfefe;\n",
       "  color: #000000;\n",
       "}\n",
       "#T_50637_row6_col4, #T_50637_row6_col6 {\n",
       "  background-color: #d48cbe;\n",
       "  color: #f1f1f1;\n",
       "}\n",
       "#T_50637_row7_col1 {\n",
       "  background-color: #16404e;\n",
       "  color: #f1f1f1;\n",
       "}\n",
       "#T_50637_row7_col2, #T_50637_row9_col0, #T_50637_row29_col4, #T_50637_row29_col6 {\n",
       "  background-color: #192c47;\n",
       "  color: #f1f1f1;\n",
       "}\n",
       "#T_50637_row7_col3, #T_50637_row7_col5 {\n",
       "  background-color: #dbf3ef;\n",
       "  color: #000000;\n",
       "}\n",
       "#T_50637_row7_col4, #T_50637_row7_col6 {\n",
       "  background-color: #937a40;\n",
       "  color: #f1f1f1;\n",
       "}\n",
       "#T_50637_row8_col0 {\n",
       "  background-color: #182f49;\n",
       "  color: #f1f1f1;\n",
       "}\n",
       "#T_50637_row8_col1 {\n",
       "  background-color: #192d48;\n",
       "  color: #f1f1f1;\n",
       "}\n",
       "#T_50637_row8_col2, #T_50637_row10_col0 {\n",
       "  background-color: #1a2441;\n",
       "  color: #f1f1f1;\n",
       "}\n",
       "#T_50637_row8_col3, #T_50637_row8_col5, #T_50637_row19_col3, #T_50637_row19_col5, #T_50637_row29_col3, #T_50637_row29_col5 {\n",
       "  background-color: #e0f5f0;\n",
       "  color: #000000;\n",
       "}\n",
       "#T_50637_row8_col4, #T_50637_row8_col6 {\n",
       "  background-color: #b97964;\n",
       "  color: #f1f1f1;\n",
       "}\n",
       "#T_50637_row9_col1, #T_50637_row16_col2 {\n",
       "  background-color: #1a2543;\n",
       "  color: #f1f1f1;\n",
       "}\n",
       "#T_50637_row9_col2, #T_50637_row11_col2, #T_50637_row12_col2 {\n",
       "  background-color: #181027;\n",
       "  color: #f1f1f1;\n",
       "}\n",
       "#T_50637_row9_col3, #T_50637_row9_col5 {\n",
       "  background-color: #c5dff2;\n",
       "  color: #000000;\n",
       "}\n",
       "#T_50637_row9_col4, #T_50637_row9_col6 {\n",
       "  background-color: #2b6f39;\n",
       "  color: #f1f1f1;\n",
       "}\n",
       "#T_50637_row10_col1, #T_50637_row11_col0 {\n",
       "  background-color: #1a213e;\n",
       "  color: #f1f1f1;\n",
       "}\n",
       "#T_50637_row10_col2 {\n",
       "  background-color: #1a1835;\n",
       "  color: #f1f1f1;\n",
       "}\n",
       "#T_50637_row10_col3, #T_50637_row10_col5 {\n",
       "  background-color: #d4efef;\n",
       "  color: #000000;\n",
       "}\n",
       "#T_50637_row10_col4, #T_50637_row10_col6 {\n",
       "  background-color: #a1794a;\n",
       "  color: #f1f1f1;\n",
       "}\n",
       "#T_50637_row11_col1, #T_50637_row12_col0, #T_50637_row35_col4, #T_50637_row35_col6 {\n",
       "  background-color: #1b1f3d;\n",
       "  color: #f1f1f1;\n",
       "}\n",
       "#T_50637_row11_col3, #T_50637_row11_col5 {\n",
       "  background-color: #dcf3ef;\n",
       "  color: #000000;\n",
       "}\n",
       "#T_50637_row11_col4, #T_50637_row11_col6 {\n",
       "  background-color: #54792f;\n",
       "  color: #f1f1f1;\n",
       "}\n",
       "#T_50637_row12_col1 {\n",
       "  background-color: #1b1e3b;\n",
       "  color: #f1f1f1;\n",
       "}\n",
       "#T_50637_row12_col3, #T_50637_row12_col5 {\n",
       "  background-color: #def4ef;\n",
       "  color: #000000;\n",
       "}\n",
       "#T_50637_row13_col1, #T_50637_row37_col4, #T_50637_row37_col6 {\n",
       "  background-color: #1b1b38;\n",
       "  color: #f1f1f1;\n",
       "}\n",
       "#T_50637_row13_col2 {\n",
       "  background-color: #110815;\n",
       "  color: #f1f1f1;\n",
       "}\n",
       "#T_50637_row13_col3, #T_50637_row13_col5, #T_50637_row31_col3, #T_50637_row31_col5 {\n",
       "  background-color: #e3f6f0;\n",
       "  color: #000000;\n",
       "}\n",
       "#T_50637_row13_col4, #T_50637_row13_col6 {\n",
       "  background-color: #16534c;\n",
       "  color: #f1f1f1;\n",
       "}\n",
       "#T_50637_row14_col1 {\n",
       "  background-color: #1a1733;\n",
       "  color: #f1f1f1;\n",
       "}\n",
       "#T_50637_row14_col2, #T_50637_row17_col2, #T_50637_row18_col2, #T_50637_row22_col0, #T_50637_row22_col2 {\n",
       "  background-color: #0b040c;\n",
       "  color: #f1f1f1;\n",
       "}\n",
       "#T_50637_row14_col3, #T_50637_row14_col5 {\n",
       "  background-color: #cfebef;\n",
       "  color: #000000;\n",
       "}\n",
       "#T_50637_row14_col4, #T_50637_row14_col6 {\n",
       "  background-color: #192845;\n",
       "  color: #f1f1f1;\n",
       "}\n",
       "#T_50637_row15_col0, #T_50637_row15_col1 {\n",
       "  background-color: #1a142f;\n",
       "  color: #f1f1f1;\n",
       "}\n",
       "#T_50637_row15_col2 {\n",
       "  background-color: #0e050f;\n",
       "  color: #f1f1f1;\n",
       "}\n",
       "#T_50637_row15_col4, #T_50637_row15_col6 {\n",
       "  background-color: #154b4e;\n",
       "  color: #f1f1f1;\n",
       "}\n",
       "#T_50637_row16_col0 {\n",
       "  background-color: #19132d;\n",
       "  color: #f1f1f1;\n",
       "}\n",
       "#T_50637_row16_col1 {\n",
       "  background-color: #191129;\n",
       "  color: #f1f1f1;\n",
       "}\n",
       "#T_50637_row16_col3, #T_50637_row16_col5 {\n",
       "  background-color: #cbe8f0;\n",
       "  color: #000000;\n",
       "}\n",
       "#T_50637_row17_col1 {\n",
       "  background-color: #160d21;\n",
       "  color: #f1f1f1;\n",
       "}\n",
       "#T_50637_row17_col3, #T_50637_row17_col5 {\n",
       "  background-color: #c6e1f1;\n",
       "  color: #000000;\n",
       "}\n",
       "#T_50637_row18_col0 {\n",
       "  background-color: #150b1d;\n",
       "  color: #f1f1f1;\n",
       "}\n",
       "#T_50637_row18_col1, #T_50637_row19_col0, #T_50637_row20_col2 {\n",
       "  background-color: #140a1b;\n",
       "  color: #f1f1f1;\n",
       "}\n",
       "#T_50637_row18_col3, #T_50637_row18_col5 {\n",
       "  background-color: #d1edef;\n",
       "  color: #000000;\n",
       "}\n",
       "#T_50637_row18_col4, #T_50637_row18_col6 {\n",
       "  background-color: #1b6145;\n",
       "  color: #f1f1f1;\n",
       "}\n",
       "#T_50637_row19_col1, #T_50637_row19_col2 {\n",
       "  background-color: #130919;\n",
       "  color: #f1f1f1;\n",
       "}\n",
       "#T_50637_row19_col4, #T_50637_row19_col6 {\n",
       "  background-color: #cf7e8f;\n",
       "  color: #f1f1f1;\n",
       "}\n",
       "#T_50637_row20_col0 {\n",
       "  background-color: #120817;\n",
       "  color: #f1f1f1;\n",
       "}\n",
       "#T_50637_row20_col1, #T_50637_row21_col0 {\n",
       "  background-color: #100713;\n",
       "  color: #f1f1f1;\n",
       "}\n",
       "#T_50637_row20_col3, #T_50637_row20_col5 {\n",
       "  background-color: #c5b8ef;\n",
       "  color: #000000;\n",
       "}\n",
       "#T_50637_row20_col4, #T_50637_row20_col6 {\n",
       "  background-color: #cca6e4;\n",
       "  color: #000000;\n",
       "}\n",
       "#T_50637_row21_col1, #T_50637_row21_col2 {\n",
       "  background-color: #0f0611;\n",
       "  color: #f1f1f1;\n",
       "}\n",
       "#T_50637_row21_col3, #T_50637_row21_col5 {\n",
       "  background-color: #c2d4f3;\n",
       "  color: #000000;\n",
       "}\n",
       "#T_50637_row21_col4, #T_50637_row21_col6 {\n",
       "  background-color: #bc7967;\n",
       "  color: #f1f1f1;\n",
       "}\n",
       "#T_50637_row22_col1, #T_50637_row23_col0, #T_50637_row23_col2 {\n",
       "  background-color: #0a030a;\n",
       "  color: #f1f1f1;\n",
       "}\n",
       "#T_50637_row22_col3, #T_50637_row22_col5 {\n",
       "  background-color: #c1d1f3;\n",
       "  color: #000000;\n",
       "}\n",
       "#T_50637_row22_col4, #T_50637_row22_col6 {\n",
       "  background-color: #d2809c;\n",
       "  color: #f1f1f1;\n",
       "}\n",
       "#T_50637_row23_col1 {\n",
       "  background-color: #080308;\n",
       "  color: #f1f1f1;\n",
       "}\n",
       "#T_50637_row23_col3, #T_50637_row23_col5 {\n",
       "  background-color: #c6e0f1;\n",
       "  color: #000000;\n",
       "}\n",
       "#T_50637_row23_col4, #T_50637_row23_col6 {\n",
       "  background-color: #d48dc1;\n",
       "  color: #f1f1f1;\n",
       "}\n",
       "#T_50637_row24_col0, #T_50637_row33_col4, #T_50637_row33_col6 {\n",
       "  background-color: #070206;\n",
       "  color: #f1f1f1;\n",
       "}\n",
       "#T_50637_row24_col1, #T_50637_row24_col2 {\n",
       "  background-color: #050205;\n",
       "  color: #f1f1f1;\n",
       "}\n",
       "#T_50637_row24_col3, #T_50637_row24_col5 {\n",
       "  background-color: #c2d6f3;\n",
       "  color: #000000;\n",
       "}\n",
       "#T_50637_row24_col4, #T_50637_row24_col6, #T_50637_row36_col4, #T_50637_row36_col6 {\n",
       "  background-color: #c87b7c;\n",
       "  color: #f1f1f1;\n",
       "}\n",
       "#T_50637_row25_col0, #T_50637_row25_col1, #T_50637_row26_col0 {\n",
       "  background-color: #030103;\n",
       "  color: #f1f1f1;\n",
       "}\n",
       "#T_50637_row25_col2, #T_50637_row26_col1, #T_50637_row26_col2, #T_50637_row27_col0, #T_50637_row27_col1, #T_50637_row27_col2, #T_50637_row28_col0, #T_50637_row28_col2, #T_50637_row29_col0, #T_50637_row29_col1 {\n",
       "  background-color: #020102;\n",
       "  color: #f1f1f1;\n",
       "}\n",
       "#T_50637_row25_col3, #T_50637_row25_col5 {\n",
       "  background-color: #d6f0ef;\n",
       "  color: #000000;\n",
       "}\n",
       "#T_50637_row25_col4, #T_50637_row25_col6 {\n",
       "  background-color: #8d7a3d;\n",
       "  color: #f1f1f1;\n",
       "}\n",
       "#T_50637_row26_col4, #T_50637_row26_col6 {\n",
       "  background-color: #6f7b31;\n",
       "  color: #f1f1f1;\n",
       "}\n",
       "#T_50637_row27_col3, #T_50637_row27_col5 {\n",
       "  background-color: #c8e4f0;\n",
       "  color: #000000;\n",
       "}\n",
       "#T_50637_row27_col4, #T_50637_row27_col6 {\n",
       "  background-color: #d383a6;\n",
       "  color: #f1f1f1;\n",
       "}\n",
       "#T_50637_row28_col1, #T_50637_row29_col2, #T_50637_row30_col0, #T_50637_row30_col1, #T_50637_row30_col2, #T_50637_row31_col0, #T_50637_row31_col1, #T_50637_row31_col2, #T_50637_row32_col0, #T_50637_row32_col1, #T_50637_row32_col2, #T_50637_row33_col0, #T_50637_row33_col1, #T_50637_row33_col2, #T_50637_row34_col0, #T_50637_row34_col1, #T_50637_row34_col2, #T_50637_row34_col3, #T_50637_row34_col4, #T_50637_row34_col5, #T_50637_row34_col6, #T_50637_row35_col0, #T_50637_row35_col1, #T_50637_row35_col2, #T_50637_row36_col0, #T_50637_row36_col1, #T_50637_row36_col2, #T_50637_row37_col0, #T_50637_row37_col1, #T_50637_row37_col2, #T_50637_row38_col0, #T_50637_row38_col1, #T_50637_row38_col2, #T_50637_row38_col3, #T_50637_row38_col4, #T_50637_row38_col5, #T_50637_row38_col6, #T_50637_row39_col0, #T_50637_row39_col1, #T_50637_row39_col2, #T_50637_row39_col3, #T_50637_row39_col4, #T_50637_row39_col5, #T_50637_row39_col6 {\n",
       "  background-color: #000000;\n",
       "  color: #f1f1f1;\n",
       "}\n",
       "#T_50637_row28_col3, #T_50637_row28_col5 {\n",
       "  background-color: #c1cff3;\n",
       "  color: #000000;\n",
       "}\n",
       "#T_50637_row28_col4, #T_50637_row28_col6 {\n",
       "  background-color: #ce7d8c;\n",
       "  color: #f1f1f1;\n",
       "}\n",
       "#T_50637_row30_col3, #T_50637_row30_col5 {\n",
       "  background-color: #c2c6f3;\n",
       "  color: #000000;\n",
       "}\n",
       "#T_50637_row30_col4, #T_50637_row30_col6 {\n",
       "  background-color: #a4794c;\n",
       "  color: #f1f1f1;\n",
       "}\n",
       "#T_50637_row32_col3, #T_50637_row32_col5 {\n",
       "  background-color: #c6b6ee;\n",
       "  color: #000000;\n",
       "}\n",
       "#T_50637_row32_col4, #T_50637_row32_col6 {\n",
       "  background-color: #c6b4ee;\n",
       "  color: #000000;\n",
       "}\n",
       "#T_50637_row33_col3, #T_50637_row33_col5 {\n",
       "  background-color: #f2fbf6;\n",
       "  color: #000000;\n",
       "}\n",
       "#T_50637_row35_col3, #T_50637_row35_col5 {\n",
       "  background-color: #c1cdf3;\n",
       "  color: #000000;\n",
       "}\n",
       "#T_50637_row37_col3, #T_50637_row37_col5 {\n",
       "  background-color: #c2c5f3;\n",
       "  color: #000000;\n",
       "}\n",
       "</style>\n",
       "<table id=\"T_50637\">\n",
       "  <thead>\n",
       "    <tr>\n",
       "      <th class=\"blank level0\" >&nbsp;</th>\n",
       "      <th id=\"T_50637_level0_col0\" class=\"col_heading level0 col0\" >Confirmed</th>\n",
       "      <th id=\"T_50637_level0_col1\" class=\"col_heading level0 col1\" >Cured</th>\n",
       "      <th id=\"T_50637_level0_col2\" class=\"col_heading level0 col2\" >Deaths</th>\n",
       "      <th id=\"T_50637_level0_col3\" class=\"col_heading level0 col3\" >Recovery Rate</th>\n",
       "      <th id=\"T_50637_level0_col4\" class=\"col_heading level0 col4\" >Mortality Rate</th>\n",
       "      <th id=\"T_50637_level0_col5\" class=\"col_heading level0 col5\" >Recovery_Rate</th>\n",
       "      <th id=\"T_50637_level0_col6\" class=\"col_heading level0 col6\" >Mortality_Rate</th>\n",
       "    </tr>\n",
       "    <tr>\n",
       "      <th class=\"index_name level0\" >State/UnionTerritory</th>\n",
       "      <th class=\"blank col0\" >&nbsp;</th>\n",
       "      <th class=\"blank col1\" >&nbsp;</th>\n",
       "      <th class=\"blank col2\" >&nbsp;</th>\n",
       "      <th class=\"blank col3\" >&nbsp;</th>\n",
       "      <th class=\"blank col4\" >&nbsp;</th>\n",
       "      <th class=\"blank col5\" >&nbsp;</th>\n",
       "      <th class=\"blank col6\" >&nbsp;</th>\n",
       "    </tr>\n",
       "  </thead>\n",
       "  <tbody>\n",
       "    <tr>\n",
       "      <th id=\"T_50637_level0_row0\" class=\"row_heading level0 row0\" >Maharashtra</th>\n",
       "      <td id=\"T_50637_row0_col0\" class=\"data row0 col0\" >5433506</td>\n",
       "      <td id=\"T_50637_row0_col1\" class=\"data row0 col1\" >4927480</td>\n",
       "      <td id=\"T_50637_row0_col2\" class=\"data row0 col2\" >83777</td>\n",
       "      <td id=\"T_50637_row0_col3\" class=\"data row0 col3\" >90.686934</td>\n",
       "      <td id=\"T_50637_row0_col4\" class=\"data row0 col4\" >1.541859</td>\n",
       "      <td id=\"T_50637_row0_col5\" class=\"data row0 col5\" >90.686934</td>\n",
       "      <td id=\"T_50637_row0_col6\" class=\"data row0 col6\" >1.541859</td>\n",
       "    </tr>\n",
       "    <tr>\n",
       "      <th id=\"T_50637_level0_row1\" class=\"row_heading level0 row1\" >Karnataka</th>\n",
       "      <td id=\"T_50637_row1_col0\" class=\"data row1 col0\" >2272374</td>\n",
       "      <td id=\"T_50637_row1_col1\" class=\"data row1 col1\" >1674487</td>\n",
       "      <td id=\"T_50637_row1_col2\" class=\"data row1 col2\" >22838</td>\n",
       "      <td id=\"T_50637_row1_col3\" class=\"data row1 col3\" >73.688882</td>\n",
       "      <td id=\"T_50637_row1_col4\" class=\"data row1 col4\" >1.005028</td>\n",
       "      <td id=\"T_50637_row1_col5\" class=\"data row1 col5\" >73.688882</td>\n",
       "      <td id=\"T_50637_row1_col6\" class=\"data row1 col6\" >1.005028</td>\n",
       "    </tr>\n",
       "    <tr>\n",
       "      <th id=\"T_50637_level0_row2\" class=\"row_heading level0 row2\" >Kerala</th>\n",
       "      <td id=\"T_50637_row2_col0\" class=\"data row2 col0\" >2200706</td>\n",
       "      <td id=\"T_50637_row2_col1\" class=\"data row2 col1\" >1846105</td>\n",
       "      <td id=\"T_50637_row2_col2\" class=\"data row2 col2\" >6612</td>\n",
       "      <td id=\"T_50637_row2_col3\" class=\"data row2 col3\" >83.886944</td>\n",
       "      <td id=\"T_50637_row2_col4\" class=\"data row2 col4\" >0.300449</td>\n",
       "      <td id=\"T_50637_row2_col5\" class=\"data row2 col5\" >83.886944</td>\n",
       "      <td id=\"T_50637_row2_col6\" class=\"data row2 col6\" >0.300449</td>\n",
       "    </tr>\n",
       "    <tr>\n",
       "      <th id=\"T_50637_level0_row3\" class=\"row_heading level0 row3\" >Tamil Nadu</th>\n",
       "      <td id=\"T_50637_row3_col0\" class=\"data row3 col0\" >1664350</td>\n",
       "      <td id=\"T_50637_row3_col1\" class=\"data row3 col1\" >1403052</td>\n",
       "      <td id=\"T_50637_row3_col2\" class=\"data row3 col2\" >18369</td>\n",
       "      <td id=\"T_50637_row3_col3\" class=\"data row3 col3\" >84.300297</td>\n",
       "      <td id=\"T_50637_row3_col4\" class=\"data row3 col4\" >1.103674</td>\n",
       "      <td id=\"T_50637_row3_col5\" class=\"data row3 col5\" >84.300297</td>\n",
       "      <td id=\"T_50637_row3_col6\" class=\"data row3 col6\" >1.103674</td>\n",
       "    </tr>\n",
       "    <tr>\n",
       "      <th id=\"T_50637_level0_row4\" class=\"row_heading level0 row4\" >Uttar Pradesh</th>\n",
       "      <td id=\"T_50637_row4_col0\" class=\"data row4 col0\" >1637663</td>\n",
       "      <td id=\"T_50637_row4_col1\" class=\"data row4 col1\" >1483249</td>\n",
       "      <td id=\"T_50637_row4_col2\" class=\"data row4 col2\" >18072</td>\n",
       "      <td id=\"T_50637_row4_col3\" class=\"data row4 col3\" >90.571076</td>\n",
       "      <td id=\"T_50637_row4_col4\" class=\"data row4 col4\" >1.103524</td>\n",
       "      <td id=\"T_50637_row4_col5\" class=\"data row4 col5\" >90.571076</td>\n",
       "      <td id=\"T_50637_row4_col6\" class=\"data row4 col6\" >1.103524</td>\n",
       "    </tr>\n",
       "    <tr>\n",
       "      <th id=\"T_50637_level0_row5\" class=\"row_heading level0 row5\" >Andhra Pradesh</th>\n",
       "      <td id=\"T_50637_row5_col0\" class=\"data row5 col0\" >1475372</td>\n",
       "      <td id=\"T_50637_row5_col1\" class=\"data row5 col1\" >1254291</td>\n",
       "      <td id=\"T_50637_row5_col2\" class=\"data row5 col2\" >9580</td>\n",
       "      <td id=\"T_50637_row5_col3\" class=\"data row5 col3\" >85.015237</td>\n",
       "      <td id=\"T_50637_row5_col4\" class=\"data row5 col4\" >0.649328</td>\n",
       "      <td id=\"T_50637_row5_col5\" class=\"data row5 col5\" >85.015237</td>\n",
       "      <td id=\"T_50637_row5_col6\" class=\"data row5 col6\" >0.649328</td>\n",
       "    </tr>\n",
       "    <tr>\n",
       "      <th id=\"T_50637_level0_row6\" class=\"row_heading level0 row6\" >Delhi</th>\n",
       "      <td id=\"T_50637_row6_col0\" class=\"data row6 col0\" >1402873</td>\n",
       "      <td id=\"T_50637_row6_col1\" class=\"data row6 col1\" >1329899</td>\n",
       "      <td id=\"T_50637_row6_col2\" class=\"data row6 col2\" >22111</td>\n",
       "      <td id=\"T_50637_row6_col3\" class=\"data row6 col3\" >94.798246</td>\n",
       "      <td id=\"T_50637_row6_col4\" class=\"data row6 col4\" >1.576123</td>\n",
       "      <td id=\"T_50637_row6_col5\" class=\"data row6 col5\" >94.798246</td>\n",
       "      <td id=\"T_50637_row6_col6\" class=\"data row6 col6\" >1.576123</td>\n",
       "    </tr>\n",
       "    <tr>\n",
       "      <th id=\"T_50637_level0_row7\" class=\"row_heading level0 row7\" >West Bengal</th>\n",
       "      <td id=\"T_50637_row7_col0\" class=\"data row7 col0\" >1171861</td>\n",
       "      <td id=\"T_50637_row7_col1\" class=\"data row7 col1\" >1026492</td>\n",
       "      <td id=\"T_50637_row7_col2\" class=\"data row7 col2\" >13576</td>\n",
       "      <td id=\"T_50637_row7_col3\" class=\"data row7 col3\" >87.595030</td>\n",
       "      <td id=\"T_50637_row7_col4\" class=\"data row7 col4\" >1.158499</td>\n",
       "      <td id=\"T_50637_row7_col5\" class=\"data row7 col5\" >87.595030</td>\n",
       "      <td id=\"T_50637_row7_col6\" class=\"data row7 col6\" >1.158499</td>\n",
       "    </tr>\n",
       "    <tr>\n",
       "      <th id=\"T_50637_level0_row8\" class=\"row_heading level0 row8\" >Chhattisgarh</th>\n",
       "      <td id=\"T_50637_row8_col0\" class=\"data row8 col0\" >925531</td>\n",
       "      <td id=\"T_50637_row8_col1\" class=\"data row8 col1\" >823113</td>\n",
       "      <td id=\"T_50637_row8_col2\" class=\"data row8 col2\" >12036</td>\n",
       "      <td id=\"T_50637_row8_col3\" class=\"data row8 col3\" >88.934136</td>\n",
       "      <td id=\"T_50637_row8_col4\" class=\"data row8 col4\" >1.300443</td>\n",
       "      <td id=\"T_50637_row8_col5\" class=\"data row8 col5\" >88.934136</td>\n",
       "      <td id=\"T_50637_row8_col6\" class=\"data row8 col6\" >1.300443</td>\n",
       "    </tr>\n",
       "    <tr>\n",
       "      <th id=\"T_50637_level0_row9\" class=\"row_heading level0 row9\" >Rajasthan</th>\n",
       "      <td id=\"T_50637_row9_col0\" class=\"data row9 col0\" >879664</td>\n",
       "      <td id=\"T_50637_row9_col1\" class=\"data row9 col1\" >713129</td>\n",
       "      <td id=\"T_50637_row9_col2\" class=\"data row9 col2\" >7080</td>\n",
       "      <td id=\"T_50637_row9_col3\" class=\"data row9 col3\" >81.068340</td>\n",
       "      <td id=\"T_50637_row9_col4\" class=\"data row9 col4\" >0.804853</td>\n",
       "      <td id=\"T_50637_row9_col5\" class=\"data row9 col5\" >81.068340</td>\n",
       "      <td id=\"T_50637_row9_col6\" class=\"data row9 col6\" >0.804853</td>\n",
       "    </tr>\n",
       "    <tr>\n",
       "      <th id=\"T_50637_level0_row10\" class=\"row_heading level0 row10\" >Gujarat</th>\n",
       "      <td id=\"T_50637_row10_col0\" class=\"data row10 col0\" >766201</td>\n",
       "      <td id=\"T_50637_row10_col1\" class=\"data row10 col1\" >660489</td>\n",
       "      <td id=\"T_50637_row10_col2\" class=\"data row10 col2\" >9269</td>\n",
       "      <td id=\"T_50637_row10_col3\" class=\"data row10 col3\" >86.203098</td>\n",
       "      <td id=\"T_50637_row10_col4\" class=\"data row10 col4\" >1.209735</td>\n",
       "      <td id=\"T_50637_row10_col5\" class=\"data row10 col5\" >86.203098</td>\n",
       "      <td id=\"T_50637_row10_col6\" class=\"data row10 col6\" >1.209735</td>\n",
       "    </tr>\n",
       "    <tr>\n",
       "      <th id=\"T_50637_level0_row11\" class=\"row_heading level0 row11\" >Madhya Pradesh</th>\n",
       "      <td id=\"T_50637_row11_col0\" class=\"data row11 col0\" >742718</td>\n",
       "      <td id=\"T_50637_row11_col1\" class=\"data row11 col1\" >652612</td>\n",
       "      <td id=\"T_50637_row11_col2\" class=\"data row11 col2\" >7139</td>\n",
       "      <td id=\"T_50637_row11_col3\" class=\"data row11 col3\" >87.868074</td>\n",
       "      <td id=\"T_50637_row11_col4\" class=\"data row11 col4\" >0.961199</td>\n",
       "      <td id=\"T_50637_row11_col5\" class=\"data row11 col5\" >87.868074</td>\n",
       "      <td id=\"T_50637_row11_col6\" class=\"data row11 col6\" >0.961199</td>\n",
       "    </tr>\n",
       "    <tr>\n",
       "      <th id=\"T_50637_level0_row12\" class=\"row_heading level0 row12\" >Haryana</th>\n",
       "      <td id=\"T_50637_row12_col0\" class=\"data row12 col0\" >709689</td>\n",
       "      <td id=\"T_50637_row12_col1\" class=\"data row12 col1\" >626852</td>\n",
       "      <td id=\"T_50637_row12_col2\" class=\"data row12 col2\" >6923</td>\n",
       "      <td id=\"T_50637_row12_col3\" class=\"data row12 col3\" >88.327704</td>\n",
       "      <td id=\"T_50637_row12_col4\" class=\"data row12 col4\" >0.975498</td>\n",
       "      <td id=\"T_50637_row12_col5\" class=\"data row12 col5\" >88.327704</td>\n",
       "      <td id=\"T_50637_row12_col6\" class=\"data row12 col6\" >0.975498</td>\n",
       "    </tr>\n",
       "    <tr>\n",
       "      <th id=\"T_50637_level0_row13\" class=\"row_heading level0 row13\" >Bihar</th>\n",
       "      <td id=\"T_50637_row13_col0\" class=\"data row13 col0\" >664115</td>\n",
       "      <td id=\"T_50637_row13_col1\" class=\"data row13 col1\" >595377</td>\n",
       "      <td id=\"T_50637_row13_col2\" class=\"data row13 col2\" >4039</td>\n",
       "      <td id=\"T_50637_row13_col3\" class=\"data row13 col3\" >89.649684</td>\n",
       "      <td id=\"T_50637_row13_col4\" class=\"data row13 col4\" >0.608178</td>\n",
       "      <td id=\"T_50637_row13_col5\" class=\"data row13 col5\" >89.649684</td>\n",
       "      <td id=\"T_50637_row13_col6\" class=\"data row13 col6\" >0.608178</td>\n",
       "    </tr>\n",
       "    <tr>\n",
       "      <th id=\"T_50637_level0_row14\" class=\"row_heading level0 row14\" >Odisha</th>\n",
       "      <td id=\"T_50637_row14_col0\" class=\"data row14 col0\" >633302</td>\n",
       "      <td id=\"T_50637_row14_col1\" class=\"data row14 col1\" >536595</td>\n",
       "      <td id=\"T_50637_row14_col2\" class=\"data row14 col2\" >2357</td>\n",
       "      <td id=\"T_50637_row14_col3\" class=\"data row14 col3\" >84.729718</td>\n",
       "      <td id=\"T_50637_row14_col4\" class=\"data row14 col4\" >0.372176</td>\n",
       "      <td id=\"T_50637_row14_col5\" class=\"data row14 col5\" >84.729718</td>\n",
       "      <td id=\"T_50637_row14_col6\" class=\"data row14 col6\" >0.372176</td>\n",
       "    </tr>\n",
       "    <tr>\n",
       "      <th id=\"T_50637_level0_row15\" class=\"row_heading level0 row15\" >Telangana</th>\n",
       "      <td id=\"T_50637_row15_col0\" class=\"data row15 col0\" >536766</td>\n",
       "      <td id=\"T_50637_row15_col1\" class=\"data row15 col1\" >485644</td>\n",
       "      <td id=\"T_50637_row15_col2\" class=\"data row15 col2\" >3012</td>\n",
       "      <td id=\"T_50637_row15_col3\" class=\"data row15 col3\" >90.475924</td>\n",
       "      <td id=\"T_50637_row15_col4\" class=\"data row15 col4\" >0.561138</td>\n",
       "      <td id=\"T_50637_row15_col5\" class=\"data row15 col5\" >90.475924</td>\n",
       "      <td id=\"T_50637_row15_col6\" class=\"data row15 col6\" >0.561138</td>\n",
       "    </tr>\n",
       "    <tr>\n",
       "      <th id=\"T_50637_level0_row16\" class=\"row_heading level0 row16\" >Punjab</th>\n",
       "      <td id=\"T_50637_row16_col0\" class=\"data row16 col0\" >511652</td>\n",
       "      <td id=\"T_50637_row16_col1\" class=\"data row16 col1\" >427058</td>\n",
       "      <td id=\"T_50637_row16_col2\" class=\"data row16 col2\" >12317</td>\n",
       "      <td id=\"T_50637_row16_col3\" class=\"data row16 col3\" >83.466497</td>\n",
       "      <td id=\"T_50637_row16_col4\" class=\"data row16 col4\" >2.407300</td>\n",
       "      <td id=\"T_50637_row16_col5\" class=\"data row16 col5\" >83.466497</td>\n",
       "      <td id=\"T_50637_row16_col6\" class=\"data row16 col6\" >2.407300</td>\n",
       "    </tr>\n",
       "    <tr>\n",
       "      <th id=\"T_50637_level0_row17\" class=\"row_heading level0 row17\" >Telengana</th>\n",
       "      <td id=\"T_50637_row17_col0\" class=\"data row17 col0\" >443360</td>\n",
       "      <td id=\"T_50637_row17_col1\" class=\"data row17 col1\" >362160</td>\n",
       "      <td id=\"T_50637_row17_col2\" class=\"data row17 col2\" >2312</td>\n",
       "      <td id=\"T_50637_row17_col3\" class=\"data row17 col3\" >81.685312</td>\n",
       "      <td id=\"T_50637_row17_col4\" class=\"data row17 col4\" >0.521472</td>\n",
       "      <td id=\"T_50637_row17_col5\" class=\"data row17 col5\" >81.685312</td>\n",
       "      <td id=\"T_50637_row17_col6\" class=\"data row17 col6\" >0.521472</td>\n",
       "    </tr>\n",
       "    <tr>\n",
       "      <th id=\"T_50637_level0_row18\" class=\"row_heading level0 row18\" >Assam</th>\n",
       "      <td id=\"T_50637_row18_col0\" class=\"data row18 col0\" >340858</td>\n",
       "      <td id=\"T_50637_row18_col1\" class=\"data row18 col1\" >290774</td>\n",
       "      <td id=\"T_50637_row18_col2\" class=\"data row18 col2\" >2344</td>\n",
       "      <td id=\"T_50637_row18_col3\" class=\"data row18 col3\" >85.306491</td>\n",
       "      <td id=\"T_50637_row18_col4\" class=\"data row18 col4\" >0.687676</td>\n",
       "      <td id=\"T_50637_row18_col5\" class=\"data row18 col5\" >85.306491</td>\n",
       "      <td id=\"T_50637_row18_col6\" class=\"data row18 col6\" >0.687676</td>\n",
       "    </tr>\n",
       "    <tr>\n",
       "      <th id=\"T_50637_level0_row19\" class=\"row_heading level0 row19\" >Jharkhand</th>\n",
       "      <td id=\"T_50637_row19_col0\" class=\"data row19 col0\" >320934</td>\n",
       "      <td id=\"T_50637_row19_col1\" class=\"data row19 col1\" >284805</td>\n",
       "      <td id=\"T_50637_row19_col2\" class=\"data row19 col2\" >4601</td>\n",
       "      <td id=\"T_50637_row19_col3\" class=\"data row19 col3\" >88.742545</td>\n",
       "      <td id=\"T_50637_row19_col4\" class=\"data row19 col4\" >1.433628</td>\n",
       "      <td id=\"T_50637_row19_col5\" class=\"data row19 col5\" >88.742545</td>\n",
       "      <td id=\"T_50637_row19_col6\" class=\"data row19 col6\" >1.433628</td>\n",
       "    </tr>\n",
       "    <tr>\n",
       "      <th id=\"T_50637_level0_row20\" class=\"row_heading level0 row20\" >Uttarakhand</th>\n",
       "      <td id=\"T_50637_row20_col0\" class=\"data row20 col0\" >295790</td>\n",
       "      <td id=\"T_50637_row20_col1\" class=\"data row20 col1\" >214426</td>\n",
       "      <td id=\"T_50637_row20_col2\" class=\"data row20 col2\" >5132</td>\n",
       "      <td id=\"T_50637_row20_col3\" class=\"data row20 col3\" >72.492647</td>\n",
       "      <td id=\"T_50637_row20_col4\" class=\"data row20 col4\" >1.735015</td>\n",
       "      <td id=\"T_50637_row20_col5\" class=\"data row20 col5\" >72.492647</td>\n",
       "      <td id=\"T_50637_row20_col6\" class=\"data row20 col6\" >1.735015</td>\n",
       "    </tr>\n",
       "    <tr>\n",
       "      <th id=\"T_50637_level0_row21\" class=\"row_heading level0 row21\" >Jammu and Kashmir</th>\n",
       "      <td id=\"T_50637_row21_col0\" class=\"data row21 col0\" >251919</td>\n",
       "      <td id=\"T_50637_row21_col1\" class=\"data row21 col1\" >197701</td>\n",
       "      <td id=\"T_50637_row21_col2\" class=\"data row21 col2\" >3293</td>\n",
       "      <td id=\"T_50637_row21_col3\" class=\"data row21 col3\" >78.478003</td>\n",
       "      <td id=\"T_50637_row21_col4\" class=\"data row21 col4\" >1.307166</td>\n",
       "      <td id=\"T_50637_row21_col5\" class=\"data row21 col5\" >78.478003</td>\n",
       "      <td id=\"T_50637_row21_col6\" class=\"data row21 col6\" >1.307166</td>\n",
       "    </tr>\n",
       "    <tr>\n",
       "      <th id=\"T_50637_level0_row22\" class=\"row_heading level0 row22\" >Himachal Pradesh</th>\n",
       "      <td id=\"T_50637_row22_col0\" class=\"data row22 col0\" >166678</td>\n",
       "      <td id=\"T_50637_row22_col1\" class=\"data row22 col1\" >129330</td>\n",
       "      <td id=\"T_50637_row22_col2\" class=\"data row22 col2\" >2460</td>\n",
       "      <td id=\"T_50637_row22_col3\" class=\"data row22 col3\" >77.592724</td>\n",
       "      <td id=\"T_50637_row22_col4\" class=\"data row22 col4\" >1.475900</td>\n",
       "      <td id=\"T_50637_row22_col5\" class=\"data row22 col5\" >77.592724</td>\n",
       "      <td id=\"T_50637_row22_col6\" class=\"data row22 col6\" >1.475900</td>\n",
       "    </tr>\n",
       "    <tr>\n",
       "      <th id=\"T_50637_level0_row23\" class=\"row_heading level0 row23\" >Goa</th>\n",
       "      <td id=\"T_50637_row23_col0\" class=\"data row23 col0\" >138776</td>\n",
       "      <td id=\"T_50637_row23_col1\" class=\"data row23 col1\" >112633</td>\n",
       "      <td id=\"T_50637_row23_col2\" class=\"data row23 col2\" >2197</td>\n",
       "      <td id=\"T_50637_row23_col3\" class=\"data row23 col3\" >81.161728</td>\n",
       "      <td id=\"T_50637_row23_col4\" class=\"data row23 col4\" >1.583127</td>\n",
       "      <td id=\"T_50637_row23_col5\" class=\"data row23 col5\" >81.161728</td>\n",
       "      <td id=\"T_50637_row23_col6\" class=\"data row23 col6\" >1.583127</td>\n",
       "    </tr>\n",
       "    <tr>\n",
       "      <th id=\"T_50637_level0_row24\" class=\"row_heading level0 row24\" >Puducherry</th>\n",
       "      <td id=\"T_50637_row24_col0\" class=\"data row24 col0\" >87749</td>\n",
       "      <td id=\"T_50637_row24_col1\" class=\"data row24 col1\" >69060</td>\n",
       "      <td id=\"T_50637_row24_col2\" class=\"data row24 col2\" >1212</td>\n",
       "      <td id=\"T_50637_row24_col3\" class=\"data row24 col3\" >78.701752</td>\n",
       "      <td id=\"T_50637_row24_col4\" class=\"data row24 col4\" >1.381212</td>\n",
       "      <td id=\"T_50637_row24_col5\" class=\"data row24 col5\" >78.701752</td>\n",
       "      <td id=\"T_50637_row24_col6\" class=\"data row24 col6\" >1.381212</td>\n",
       "    </tr>\n",
       "    <tr>\n",
       "      <th id=\"T_50637_level0_row25\" class=\"row_heading level0 row25\" >Chandigarh</th>\n",
       "      <td id=\"T_50637_row25_col0\" class=\"data row25 col0\" >56513</td>\n",
       "      <td id=\"T_50637_row25_col1\" class=\"data row25 col1\" >48831</td>\n",
       "      <td id=\"T_50637_row25_col2\" class=\"data row25 col2\" >647</td>\n",
       "      <td id=\"T_50637_row25_col3\" class=\"data row25 col3\" >86.406667</td>\n",
       "      <td id=\"T_50637_row25_col4\" class=\"data row25 col4\" >1.144869</td>\n",
       "      <td id=\"T_50637_row25_col5\" class=\"data row25 col5\" >86.406667</td>\n",
       "      <td id=\"T_50637_row25_col6\" class=\"data row25 col6\" >1.144869</td>\n",
       "    </tr>\n",
       "    <tr>\n",
       "      <th id=\"T_50637_level0_row26\" class=\"row_heading level0 row26\" >Tripura</th>\n",
       "      <td id=\"T_50637_row26_col0\" class=\"data row26 col0\" >42776</td>\n",
       "      <td id=\"T_50637_row26_col1\" class=\"data row26 col1\" >36402</td>\n",
       "      <td id=\"T_50637_row26_col2\" class=\"data row26 col2\" >450</td>\n",
       "      <td id=\"T_50637_row26_col3\" class=\"data row26 col3\" >85.099121</td>\n",
       "      <td id=\"T_50637_row26_col4\" class=\"data row26 col4\" >1.051992</td>\n",
       "      <td id=\"T_50637_row26_col5\" class=\"data row26 col5\" >85.099121</td>\n",
       "      <td id=\"T_50637_row26_col6\" class=\"data row26 col6\" >1.051992</td>\n",
       "    </tr>\n",
       "    <tr>\n",
       "      <th id=\"T_50637_level0_row27\" class=\"row_heading level0 row27\" >Manipur</th>\n",
       "      <td id=\"T_50637_row27_col0\" class=\"data row27 col0\" >40683</td>\n",
       "      <td id=\"T_50637_row27_col1\" class=\"data row27 col1\" >33466</td>\n",
       "      <td id=\"T_50637_row27_col2\" class=\"data row27 col2\" >612</td>\n",
       "      <td id=\"T_50637_row27_col3\" class=\"data row27 col3\" >82.260404</td>\n",
       "      <td id=\"T_50637_row27_col4\" class=\"data row27 col4\" >1.504314</td>\n",
       "      <td id=\"T_50637_row27_col5\" class=\"data row27 col5\" >82.260404</td>\n",
       "      <td id=\"T_50637_row27_col6\" class=\"data row27 col6\" >1.504314</td>\n",
       "    </tr>\n",
       "    <tr>\n",
       "      <th id=\"T_50637_level0_row28\" class=\"row_heading level0 row28\" >Meghalaya</th>\n",
       "      <td id=\"T_50637_row28_col0\" class=\"data row28 col0\" >24872</td>\n",
       "      <td id=\"T_50637_row28_col1\" class=\"data row28 col1\" >19185</td>\n",
       "      <td id=\"T_50637_row28_col2\" class=\"data row28 col2\" >355</td>\n",
       "      <td id=\"T_50637_row28_col3\" class=\"data row28 col3\" >77.134931</td>\n",
       "      <td id=\"T_50637_row28_col4\" class=\"data row28 col4\" >1.427308</td>\n",
       "      <td id=\"T_50637_row28_col5\" class=\"data row28 col5\" >77.134931</td>\n",
       "      <td id=\"T_50637_row28_col6\" class=\"data row28 col6\" >1.427308</td>\n",
       "    </tr>\n",
       "    <tr>\n",
       "      <th id=\"T_50637_level0_row29\" class=\"row_heading level0 row29\" >Arunachal Pradesh</th>\n",
       "      <td id=\"T_50637_row29_col0\" class=\"data row29 col0\" >22462</td>\n",
       "      <td id=\"T_50637_row29_col1\" class=\"data row29 col1\" >19977</td>\n",
       "      <td id=\"T_50637_row29_col2\" class=\"data row29 col2\" >88</td>\n",
       "      <td id=\"T_50637_row29_col3\" class=\"data row29 col3\" >88.936871</td>\n",
       "      <td id=\"T_50637_row29_col4\" class=\"data row29 col4\" >0.391773</td>\n",
       "      <td id=\"T_50637_row29_col5\" class=\"data row29 col5\" >88.936871</td>\n",
       "      <td id=\"T_50637_row29_col6\" class=\"data row29 col6\" >0.391773</td>\n",
       "    </tr>\n",
       "    <tr>\n",
       "      <th id=\"T_50637_level0_row30\" class=\"row_heading level0 row30\" >Nagaland</th>\n",
       "      <td id=\"T_50637_row30_col0\" class=\"data row30 col0\" >18714</td>\n",
       "      <td id=\"T_50637_row30_col1\" class=\"data row30 col1\" >14079</td>\n",
       "      <td id=\"T_50637_row30_col2\" class=\"data row30 col2\" >228</td>\n",
       "      <td id=\"T_50637_row30_col3\" class=\"data row30 col3\" >75.232446</td>\n",
       "      <td id=\"T_50637_row30_col4\" class=\"data row30 col4\" >1.218339</td>\n",
       "      <td id=\"T_50637_row30_col5\" class=\"data row30 col5\" >75.232446</td>\n",
       "      <td id=\"T_50637_row30_col6\" class=\"data row30 col6\" >1.218339</td>\n",
       "    </tr>\n",
       "    <tr>\n",
       "      <th id=\"T_50637_level0_row31\" class=\"row_heading level0 row31\" >Ladakh</th>\n",
       "      <td id=\"T_50637_row31_col0\" class=\"data row31 col0\" >16784</td>\n",
       "      <td id=\"T_50637_row31_col1\" class=\"data row31 col1\" >15031</td>\n",
       "      <td id=\"T_50637_row31_col2\" class=\"data row31 col2\" >170</td>\n",
       "      <td id=\"T_50637_row31_col3\" class=\"data row31 col3\" >89.555529</td>\n",
       "      <td id=\"T_50637_row31_col4\" class=\"data row31 col4\" >1.012869</td>\n",
       "      <td id=\"T_50637_row31_col5\" class=\"data row31 col5\" >89.555529</td>\n",
       "      <td id=\"T_50637_row31_col6\" class=\"data row31 col6\" >1.012869</td>\n",
       "    </tr>\n",
       "    <tr>\n",
       "      <th id=\"T_50637_level0_row32\" class=\"row_heading level0 row32\" >Sikkim</th>\n",
       "      <td id=\"T_50637_row32_col0\" class=\"data row32 col0\" >11689</td>\n",
       "      <td id=\"T_50637_row32_col1\" class=\"data row32 col1\" >8427</td>\n",
       "      <td id=\"T_50637_row32_col2\" class=\"data row32 col2\" >212</td>\n",
       "      <td id=\"T_50637_row32_col3\" class=\"data row32 col3\" >72.093421</td>\n",
       "      <td id=\"T_50637_row32_col4\" class=\"data row32 col4\" >1.813671</td>\n",
       "      <td id=\"T_50637_row32_col5\" class=\"data row32 col5\" >72.093421</td>\n",
       "      <td id=\"T_50637_row32_col6\" class=\"data row32 col6\" >1.813671</td>\n",
       "    </tr>\n",
       "    <tr>\n",
       "      <th id=\"T_50637_level0_row33\" class=\"row_heading level0 row33\" >Dadra and Nagar Haveli and Daman and Diu</th>\n",
       "      <td id=\"T_50637_row33_col0\" class=\"data row33 col0\" >9652</td>\n",
       "      <td id=\"T_50637_row33_col1\" class=\"data row33 col1\" >8944</td>\n",
       "      <td id=\"T_50637_row33_col2\" class=\"data row33 col2\" >4</td>\n",
       "      <td id=\"T_50637_row33_col3\" class=\"data row33 col3\" >92.664733</td>\n",
       "      <td id=\"T_50637_row33_col4\" class=\"data row33 col4\" >0.041442</td>\n",
       "      <td id=\"T_50637_row33_col5\" class=\"data row33 col5\" >92.664733</td>\n",
       "      <td id=\"T_50637_row33_col6\" class=\"data row33 col6\" >0.041442</td>\n",
       "    </tr>\n",
       "    <tr>\n",
       "      <th id=\"T_50637_level0_row34\" class=\"row_heading level0 row34\" >Cases being reassigned to states</th>\n",
       "      <td id=\"T_50637_row34_col0\" class=\"data row34 col0\" >9265</td>\n",
       "      <td id=\"T_50637_row34_col1\" class=\"data row34 col1\" >0</td>\n",
       "      <td id=\"T_50637_row34_col2\" class=\"data row34 col2\" >0</td>\n",
       "      <td id=\"T_50637_row34_col3\" class=\"data row34 col3\" >0.000000</td>\n",
       "      <td id=\"T_50637_row34_col4\" class=\"data row34 col4\" >0.000000</td>\n",
       "      <td id=\"T_50637_row34_col5\" class=\"data row34 col5\" >0.000000</td>\n",
       "      <td id=\"T_50637_row34_col6\" class=\"data row34 col6\" >0.000000</td>\n",
       "    </tr>\n",
       "    <tr>\n",
       "      <th id=\"T_50637_level0_row35\" class=\"row_heading level0 row35\" >Mizoram</th>\n",
       "      <td id=\"T_50637_row35_col0\" class=\"data row35 col0\" >9252</td>\n",
       "      <td id=\"T_50637_row35_col1\" class=\"data row35 col1\" >7094</td>\n",
       "      <td id=\"T_50637_row35_col2\" class=\"data row35 col2\" >29</td>\n",
       "      <td id=\"T_50637_row35_col3\" class=\"data row35 col3\" >76.675313</td>\n",
       "      <td id=\"T_50637_row35_col4\" class=\"data row35 col4\" >0.313446</td>\n",
       "      <td id=\"T_50637_row35_col5\" class=\"data row35 col5\" >76.675313</td>\n",
       "      <td id=\"T_50637_row35_col6\" class=\"data row35 col6\" >0.313446</td>\n",
       "    </tr>\n",
       "    <tr>\n",
       "      <th id=\"T_50637_level0_row36\" class=\"row_heading level0 row36\" >Andaman and Nicobar Islands</th>\n",
       "      <td id=\"T_50637_row36_col0\" class=\"data row36 col0\" >6674</td>\n",
       "      <td id=\"T_50637_row36_col1\" class=\"data row36 col1\" >6359</td>\n",
       "      <td id=\"T_50637_row36_col2\" class=\"data row36 col2\" >92</td>\n",
       "      <td id=\"T_50637_row36_col3\" class=\"data row36 col3\" >95.280192</td>\n",
       "      <td id=\"T_50637_row36_col4\" class=\"data row36 col4\" >1.378484</td>\n",
       "      <td id=\"T_50637_row36_col5\" class=\"data row36 col5\" >95.280192</td>\n",
       "      <td id=\"T_50637_row36_col6\" class=\"data row36 col6\" >1.378484</td>\n",
       "    </tr>\n",
       "    <tr>\n",
       "      <th id=\"T_50637_level0_row37\" class=\"row_heading level0 row37\" >Lakshadweep</th>\n",
       "      <td id=\"T_50637_row37_col0\" class=\"data row37 col0\" >5212</td>\n",
       "      <td id=\"T_50637_row37_col1\" class=\"data row37 col1\" >3915</td>\n",
       "      <td id=\"T_50637_row37_col2\" class=\"data row37 col2\" >15</td>\n",
       "      <td id=\"T_50637_row37_col3\" class=\"data row37 col3\" >75.115119</td>\n",
       "      <td id=\"T_50637_row37_col4\" class=\"data row37 col4\" >0.287797</td>\n",
       "      <td id=\"T_50637_row37_col5\" class=\"data row37 col5\" >75.115119</td>\n",
       "      <td id=\"T_50637_row37_col6\" class=\"data row37 col6\" >0.287797</td>\n",
       "    </tr>\n",
       "    <tr>\n",
       "      <th id=\"T_50637_level0_row38\" class=\"row_heading level0 row38\" >Unassigned</th>\n",
       "      <td id=\"T_50637_row38_col0\" class=\"data row38 col0\" >77</td>\n",
       "      <td id=\"T_50637_row38_col1\" class=\"data row38 col1\" >0</td>\n",
       "      <td id=\"T_50637_row38_col2\" class=\"data row38 col2\" >0</td>\n",
       "      <td id=\"T_50637_row38_col3\" class=\"data row38 col3\" >0.000000</td>\n",
       "      <td id=\"T_50637_row38_col4\" class=\"data row38 col4\" >0.000000</td>\n",
       "      <td id=\"T_50637_row38_col5\" class=\"data row38 col5\" >0.000000</td>\n",
       "      <td id=\"T_50637_row38_col6\" class=\"data row38 col6\" >0.000000</td>\n",
       "    </tr>\n",
       "    <tr>\n",
       "      <th id=\"T_50637_level0_row39\" class=\"row_heading level0 row39\" >Daman & Diu</th>\n",
       "      <td id=\"T_50637_row39_col0\" class=\"data row39 col0\" >2</td>\n",
       "      <td id=\"T_50637_row39_col1\" class=\"data row39 col1\" >0</td>\n",
       "      <td id=\"T_50637_row39_col2\" class=\"data row39 col2\" >0</td>\n",
       "      <td id=\"T_50637_row39_col3\" class=\"data row39 col3\" >0.000000</td>\n",
       "      <td id=\"T_50637_row39_col4\" class=\"data row39 col4\" >0.000000</td>\n",
       "      <td id=\"T_50637_row39_col5\" class=\"data row39 col5\" >0.000000</td>\n",
       "      <td id=\"T_50637_row39_col6\" class=\"data row39 col6\" >0.000000</td>\n",
       "    </tr>\n",
       "  </tbody>\n",
       "</table>\n"
      ],
      "text/plain": [
       "<pandas.io.formats.style.Styler at 0x14b050b1480>"
      ]
     },
     "execution_count": 64,
     "metadata": {},
     "output_type": "execute_result"
    }
   ],
   "source": [
    "statewise.style.background_gradient(cmap=\"cubehelix\")"
   ]
  },
  {
   "cell_type": "code",
   "execution_count": 72,
   "metadata": {},
   "outputs": [
    {
     "data": {
      "text/html": [
       "<div>\n",
       "<style scoped>\n",
       "    .dataframe tbody tr th:only-of-type {\n",
       "        vertical-align: middle;\n",
       "    }\n",
       "\n",
       "    .dataframe tbody tr th {\n",
       "        vertical-align: top;\n",
       "    }\n",
       "\n",
       "    .dataframe thead th {\n",
       "        text-align: right;\n",
       "    }\n",
       "</style>\n",
       "<table border=\"1\" class=\"dataframe\">\n",
       "  <thead>\n",
       "    <tr style=\"text-align: right;\">\n",
       "      <th></th>\n",
       "      <th>State/UnionTerritory</th>\n",
       "      <th>Active_Cases</th>\n",
       "      <th>Date</th>\n",
       "    </tr>\n",
       "  </thead>\n",
       "  <tbody>\n",
       "    <tr>\n",
       "      <th>0</th>\n",
       "      <td>Maharashtra</td>\n",
       "      <td>701614</td>\n",
       "      <td>2021-05-19</td>\n",
       "    </tr>\n",
       "    <tr>\n",
       "      <th>1</th>\n",
       "      <td>Karnataka</td>\n",
       "      <td>605515</td>\n",
       "      <td>2021-05-19</td>\n",
       "    </tr>\n",
       "    <tr>\n",
       "      <th>2</th>\n",
       "      <td>Kerala</td>\n",
       "      <td>445692</td>\n",
       "      <td>2021-05-19</td>\n",
       "    </tr>\n",
       "    <tr>\n",
       "      <th>3</th>\n",
       "      <td>Uttar Pradesh</td>\n",
       "      <td>310783</td>\n",
       "      <td>2021-05-19</td>\n",
       "    </tr>\n",
       "    <tr>\n",
       "      <th>4</th>\n",
       "      <td>Tamil Nadu</td>\n",
       "      <td>242929</td>\n",
       "      <td>2021-05-19</td>\n",
       "    </tr>\n",
       "  </tbody>\n",
       "</table>\n",
       "</div>"
      ],
      "text/plain": [
       "  State/UnionTerritory  Active_Cases       Date\n",
       "0          Maharashtra        701614 2021-05-19\n",
       "1            Karnataka        605515 2021-05-19\n",
       "2               Kerala        445692 2021-05-19\n",
       "3        Uttar Pradesh        310783 2021-05-19\n",
       "4           Tamil Nadu        242929 2021-05-19"
      ]
     },
     "execution_count": 72,
     "metadata": {},
     "output_type": "execute_result"
    }
   ],
   "source": [
    "topactive = (\n",
    "    covid_df.groupby(by=\"State/UnionTerritory\")\n",
    "    .max()[['Active_Cases', 'Date']]\n",
    "    .sort_values(by=['Active_Cases'], ascending=False)\n",
    "    .reset_index()\n",
    ")\n",
    "topactive.head()\n"
   ]
  },
  {
   "cell_type": "code",
   "execution_count": 73,
   "metadata": {},
   "outputs": [
    {
     "data": {
      "text/plain": [
       "<Figure size 1600x900 with 0 Axes>"
      ]
     },
     "metadata": {},
     "output_type": "display_data"
    }
   ],
   "source": [
    "fig=plt.figure(figsize=(16,9))"
   ]
  },
  {
   "cell_type": "code",
   "execution_count": 74,
   "metadata": {},
   "outputs": [
    {
     "data": {
      "text/plain": [
       "Text(0.5, 1.0, 'Top 10 states with most active cases in india')"
      ]
     },
     "execution_count": 74,
     "metadata": {},
     "output_type": "execute_result"
    },
    {
     "data": {
      "image/png": "[encoded data removed]",
      "text/plain": [
       "<Figure size 640x480 with 1 Axes>"
      ]
     },
     "metadata": {},
     "output_type": "display_data"
    }
   ],
   "source": [
    "plt.title(\"Top 10 states with most active cases in india\",size=25)"
   ]
  },
  {
   "cell_type": "code",
   "execution_count": 79,
   "metadata": {},
   "outputs": [
    {
     "data": {
      "image/png": "[encoded data removed]",
      "text/plain": [
       "<Figure size 640x480 with 1 Axes>"
      ]
     },
     "metadata": {},
     "output_type": "display_data"
    }
   ],
   "source": [
    "ax = sns.barplot(data=topactive.iloc[:10],y=\"Active_Cases\", x=\"State/UnionTerritory\",\n",
    "                 linewidth=2,edgecolor=\"red\")"
   ]
  },
  {
   "cell_type": "code",
   "execution_count": 80,
   "metadata": {},
   "outputs": [
    {
     "data": {
      "image/png": "[encoded data removed]",
      "text/plain": [
       "<Figure size 1600x900 with 1 Axes>"
      ]
     },
     "metadata": {},
     "output_type": "display_data"
    }
   ],
   "source": [
    "topactive = (\n",
    "    covid_df.groupby(by=\"State/UnionTerritory\")\n",
    "    .max()[['Active_Cases', 'Date']]\n",
    "    .sort_values(by=['Active_Cases'], ascending=False)\n",
    "    .reset_index()\n",
    ")\n",
    "fig=plt.figure(figsize=(16,9))\n",
    "plt.title(\"Top 10 states with most active cases in india\",size=25)\n",
    "ax = sns.barplot(data=topactive.iloc[:10],y=\"Active_Cases\", x=\"State/UnionTerritory\",\n",
    "                 linewidth=2,edgecolor=\"red\")\n",
    "plt.xlabel(\"States\")\n",
    "plt.ylabel(\"Total Active Cases\")\n",
    "plt.show()"
   ]
  },
  {
   "cell_type": "code",
   "execution_count": 82,
   "metadata": {},
   "outputs": [
    {
     "data": {
      "image/png": "[encoded data removed]",
      "text/plain": [
       "<Figure size 1800x500 with 1 Axes>"
      ]
     },
     "metadata": {},
     "output_type": "display_data"
    }
   ],
   "source": [
    "#Top States with highest Deaths\n",
    "topDeaths=( \n",
    "  covid_df.groupby(by='State/UnionTerritory')\n",
    "  .max()[['Deaths', 'Date']]\n",
    "  .sort_values(by=['Deaths'], ascending=False)\n",
    "    .reset_index()\n",
    ")\n",
    "\n",
    "fig=plt.figure(figsize=(18,5))\n",
    "plt.title(\"Top 10 states with most Deaths\",size=25)\n",
    "ax = sns.barplot(data=topDeaths.iloc[:12],y=\"Deaths\", x=\"State/UnionTerritory\",\n",
    "                 linewidth=2,edgecolor=\"black\")\n",
    "plt.xlabel(\"States\")\n",
    "plt.ylabel(\"Total Deaths\")\n",
    "plt.show()"
   ]
  },
  {
   "cell_type": "code",
   "execution_count": 83,
   "metadata": {},
   "outputs": [
    {
     "data": {
      "text/plain": [
       "Text(0.5, 1.0, 'Top 5 Affected States in India')"
      ]
     },
     "execution_count": 83,
     "metadata": {},
     "output_type": "execute_result"
    },
    {
     "data": {
      "image/png": "[encoded data removed]",
      "text/plain": [
       "<Figure size 1200x600 with 1 Axes>"
      ]
     },
     "metadata": {},
     "output_type": "display_data"
    }
   ],
   "source": [
    "#Growth Trend\n",
    "fig = plt.figure(figsize=(12,6))\n",
    "\n",
    "ax = sns.lineplot(\n",
    "    data=covid_df[covid_df['State/UnionTerritory'].isin(['Maharashtra', 'Karnataka', 'Kerala', 'Tamil Nadu', 'Uttar Pradesh'])], \n",
    "    x='Date', \n",
    "    y='Active_Cases', \n",
    "    hue=\"State/UnionTerritory\"\n",
    ")\n",
    "ax.set_title(\"Top 5 Affected States in India\",size=16)"
   ]
  },
  {
   "cell_type": "code",
   "execution_count": 84,
   "metadata": {},
   "outputs": [],
   "source": [
    "vaccine_df.rename(columns={'Updated On' : 'Vaccine_Date'},inplace=True)"
   ]
  },
  {
   "cell_type": "code",
   "execution_count": 85,
   "metadata": {},
   "outputs": [
    {
     "data": {
      "text/html": [
       "<div>\n",
       "<style scoped>\n",
       "    .dataframe tbody tr th:only-of-type {\n",
       "        vertical-align: middle;\n",
       "    }\n",
       "\n",
       "    .dataframe tbody tr th {\n",
       "        vertical-align: top;\n",
       "    }\n",
       "\n",
       "    .dataframe thead th {\n",
       "        text-align: right;\n",
       "    }\n",
       "</style>\n",
       "<table border=\"1\" class=\"dataframe\">\n",
       "  <thead>\n",
       "    <tr style=\"text-align: right;\">\n",
       "      <th></th>\n",
       "      <th>Vaccine_Date</th>\n",
       "      <th>State</th>\n",
       "      <th>Total Doses Administered</th>\n",
       "      <th>Sessions</th>\n",
       "      <th>Sites</th>\n",
       "      <th>First Dose Administered</th>\n",
       "      <th>Second Dose Administered</th>\n",
       "      <th>Male (Doses Administered)</th>\n",
       "      <th>Female (Doses Administered)</th>\n",
       "      <th>Transgender (Doses Administered)</th>\n",
       "      <th>...</th>\n",
       "      <th>18-44 Years (Doses Administered)</th>\n",
       "      <th>45-60 Years (Doses Administered)</th>\n",
       "      <th>60+ Years (Doses Administered)</th>\n",
       "      <th>18-44 Years(Individuals Vaccinated)</th>\n",
       "      <th>45-60 Years(Individuals Vaccinated)</th>\n",
       "      <th>60+ Years(Individuals Vaccinated)</th>\n",
       "      <th>Male(Individuals Vaccinated)</th>\n",
       "      <th>Female(Individuals Vaccinated)</th>\n",
       "      <th>Transgender(Individuals Vaccinated)</th>\n",
       "      <th>Total Individuals Vaccinated</th>\n",
       "    </tr>\n",
       "  </thead>\n",
       "  <tbody>\n",
       "    <tr>\n",
       "      <th>0</th>\n",
       "      <td>16/01/2021</td>\n",
       "      <td>India</td>\n",
       "      <td>48276.0</td>\n",
       "      <td>3455.0</td>\n",
       "      <td>2957.0</td>\n",
       "      <td>48276.0</td>\n",
       "      <td>0.0</td>\n",
       "      <td>NaN</td>\n",
       "      <td>NaN</td>\n",
       "      <td>NaN</td>\n",
       "      <td>...</td>\n",
       "      <td>NaN</td>\n",
       "      <td>NaN</td>\n",
       "      <td>NaN</td>\n",
       "      <td>NaN</td>\n",
       "      <td>NaN</td>\n",
       "      <td>NaN</td>\n",
       "      <td>23757.0</td>\n",
       "      <td>24517.0</td>\n",
       "      <td>2.0</td>\n",
       "      <td>48276.0</td>\n",
       "    </tr>\n",
       "    <tr>\n",
       "      <th>1</th>\n",
       "      <td>17/01/2021</td>\n",
       "      <td>India</td>\n",
       "      <td>58604.0</td>\n",
       "      <td>8532.0</td>\n",
       "      <td>4954.0</td>\n",
       "      <td>58604.0</td>\n",
       "      <td>0.0</td>\n",
       "      <td>NaN</td>\n",
       "      <td>NaN</td>\n",
       "      <td>NaN</td>\n",
       "      <td>...</td>\n",
       "      <td>NaN</td>\n",
       "      <td>NaN</td>\n",
       "      <td>NaN</td>\n",
       "      <td>NaN</td>\n",
       "      <td>NaN</td>\n",
       "      <td>NaN</td>\n",
       "      <td>27348.0</td>\n",
       "      <td>31252.0</td>\n",
       "      <td>4.0</td>\n",
       "      <td>58604.0</td>\n",
       "    </tr>\n",
       "    <tr>\n",
       "      <th>2</th>\n",
       "      <td>18/01/2021</td>\n",
       "      <td>India</td>\n",
       "      <td>99449.0</td>\n",
       "      <td>13611.0</td>\n",
       "      <td>6583.0</td>\n",
       "      <td>99449.0</td>\n",
       "      <td>0.0</td>\n",
       "      <td>NaN</td>\n",
       "      <td>NaN</td>\n",
       "      <td>NaN</td>\n",
       "      <td>...</td>\n",
       "      <td>NaN</td>\n",
       "      <td>NaN</td>\n",
       "      <td>NaN</td>\n",
       "      <td>NaN</td>\n",
       "      <td>NaN</td>\n",
       "      <td>NaN</td>\n",
       "      <td>41361.0</td>\n",
       "      <td>58083.0</td>\n",
       "      <td>5.0</td>\n",
       "      <td>99449.0</td>\n",
       "    </tr>\n",
       "    <tr>\n",
       "      <th>3</th>\n",
       "      <td>19/01/2021</td>\n",
       "      <td>India</td>\n",
       "      <td>195525.0</td>\n",
       "      <td>17855.0</td>\n",
       "      <td>7951.0</td>\n",
       "      <td>195525.0</td>\n",
       "      <td>0.0</td>\n",
       "      <td>NaN</td>\n",
       "      <td>NaN</td>\n",
       "      <td>NaN</td>\n",
       "      <td>...</td>\n",
       "      <td>NaN</td>\n",
       "      <td>NaN</td>\n",
       "      <td>NaN</td>\n",
       "      <td>NaN</td>\n",
       "      <td>NaN</td>\n",
       "      <td>NaN</td>\n",
       "      <td>81901.0</td>\n",
       "      <td>113613.0</td>\n",
       "      <td>11.0</td>\n",
       "      <td>195525.0</td>\n",
       "    </tr>\n",
       "    <tr>\n",
       "      <th>4</th>\n",
       "      <td>20/01/2021</td>\n",
       "      <td>India</td>\n",
       "      <td>251280.0</td>\n",
       "      <td>25472.0</td>\n",
       "      <td>10504.0</td>\n",
       "      <td>251280.0</td>\n",
       "      <td>0.0</td>\n",
       "      <td>NaN</td>\n",
       "      <td>NaN</td>\n",
       "      <td>NaN</td>\n",
       "      <td>...</td>\n",
       "      <td>NaN</td>\n",
       "      <td>NaN</td>\n",
       "      <td>NaN</td>\n",
       "      <td>NaN</td>\n",
       "      <td>NaN</td>\n",
       "      <td>NaN</td>\n",
       "      <td>98111.0</td>\n",
       "      <td>153145.0</td>\n",
       "      <td>24.0</td>\n",
       "      <td>251280.0</td>\n",
       "    </tr>\n",
       "    <tr>\n",
       "      <th>5</th>\n",
       "      <td>21/01/2021</td>\n",
       "      <td>India</td>\n",
       "      <td>365965.0</td>\n",
       "      <td>32226.0</td>\n",
       "      <td>12600.0</td>\n",
       "      <td>365965.0</td>\n",
       "      <td>0.0</td>\n",
       "      <td>NaN</td>\n",
       "      <td>NaN</td>\n",
       "      <td>NaN</td>\n",
       "      <td>...</td>\n",
       "      <td>NaN</td>\n",
       "      <td>NaN</td>\n",
       "      <td>NaN</td>\n",
       "      <td>NaN</td>\n",
       "      <td>NaN</td>\n",
       "      <td>NaN</td>\n",
       "      <td>132784.0</td>\n",
       "      <td>233143.0</td>\n",
       "      <td>38.0</td>\n",
       "      <td>365965.0</td>\n",
       "    </tr>\n",
       "    <tr>\n",
       "      <th>6</th>\n",
       "      <td>22/01/2021</td>\n",
       "      <td>India</td>\n",
       "      <td>549381.0</td>\n",
       "      <td>36988.0</td>\n",
       "      <td>14115.0</td>\n",
       "      <td>549381.0</td>\n",
       "      <td>0.0</td>\n",
       "      <td>NaN</td>\n",
       "      <td>NaN</td>\n",
       "      <td>NaN</td>\n",
       "      <td>...</td>\n",
       "      <td>NaN</td>\n",
       "      <td>NaN</td>\n",
       "      <td>NaN</td>\n",
       "      <td>NaN</td>\n",
       "      <td>NaN</td>\n",
       "      <td>NaN</td>\n",
       "      <td>193899.0</td>\n",
       "      <td>355402.0</td>\n",
       "      <td>80.0</td>\n",
       "      <td>549381.0</td>\n",
       "    </tr>\n",
       "    <tr>\n",
       "      <th>7</th>\n",
       "      <td>23/01/2021</td>\n",
       "      <td>India</td>\n",
       "      <td>759008.0</td>\n",
       "      <td>43076.0</td>\n",
       "      <td>15605.0</td>\n",
       "      <td>759008.0</td>\n",
       "      <td>0.0</td>\n",
       "      <td>NaN</td>\n",
       "      <td>NaN</td>\n",
       "      <td>NaN</td>\n",
       "      <td>...</td>\n",
       "      <td>NaN</td>\n",
       "      <td>NaN</td>\n",
       "      <td>NaN</td>\n",
       "      <td>NaN</td>\n",
       "      <td>NaN</td>\n",
       "      <td>NaN</td>\n",
       "      <td>267856.0</td>\n",
       "      <td>491049.0</td>\n",
       "      <td>103.0</td>\n",
       "      <td>759008.0</td>\n",
       "    </tr>\n",
       "    <tr>\n",
       "      <th>8</th>\n",
       "      <td>24/01/2021</td>\n",
       "      <td>India</td>\n",
       "      <td>835058.0</td>\n",
       "      <td>49851.0</td>\n",
       "      <td>18111.0</td>\n",
       "      <td>835058.0</td>\n",
       "      <td>0.0</td>\n",
       "      <td>NaN</td>\n",
       "      <td>NaN</td>\n",
       "      <td>NaN</td>\n",
       "      <td>...</td>\n",
       "      <td>NaN</td>\n",
       "      <td>NaN</td>\n",
       "      <td>NaN</td>\n",
       "      <td>NaN</td>\n",
       "      <td>NaN</td>\n",
       "      <td>NaN</td>\n",
       "      <td>296283.0</td>\n",
       "      <td>538647.0</td>\n",
       "      <td>128.0</td>\n",
       "      <td>835058.0</td>\n",
       "    </tr>\n",
       "    <tr>\n",
       "      <th>9</th>\n",
       "      <td>25/01/2021</td>\n",
       "      <td>India</td>\n",
       "      <td>1277104.0</td>\n",
       "      <td>55151.0</td>\n",
       "      <td>19682.0</td>\n",
       "      <td>1277104.0</td>\n",
       "      <td>0.0</td>\n",
       "      <td>NaN</td>\n",
       "      <td>NaN</td>\n",
       "      <td>NaN</td>\n",
       "      <td>...</td>\n",
       "      <td>NaN</td>\n",
       "      <td>NaN</td>\n",
       "      <td>NaN</td>\n",
       "      <td>NaN</td>\n",
       "      <td>NaN</td>\n",
       "      <td>NaN</td>\n",
       "      <td>444137.0</td>\n",
       "      <td>832766.0</td>\n",
       "      <td>201.0</td>\n",
       "      <td>1277104.0</td>\n",
       "    </tr>\n",
       "  </tbody>\n",
       "</table>\n",
       "<p>10 rows × 24 columns</p>\n",
       "</div>"
      ],
      "text/plain": [
       "  Vaccine_Date  State  Total Doses Administered  Sessions   Sites   \\\n",
       "0   16/01/2021  India                   48276.0    3455.0   2957.0   \n",
       "1   17/01/2021  India                   58604.0    8532.0   4954.0   \n",
       "2   18/01/2021  India                   99449.0   13611.0   6583.0   \n",
       "3   19/01/2021  India                  195525.0   17855.0   7951.0   \n",
       "4   20/01/2021  India                  251280.0   25472.0  10504.0   \n",
       "5   21/01/2021  India                  365965.0   32226.0  12600.0   \n",
       "6   22/01/2021  India                  549381.0   36988.0  14115.0   \n",
       "7   23/01/2021  India                  759008.0   43076.0  15605.0   \n",
       "8   24/01/2021  India                  835058.0   49851.0  18111.0   \n",
       "9   25/01/2021  India                 1277104.0   55151.0  19682.0   \n",
       "\n",
       "   First Dose Administered  Second Dose Administered  \\\n",
       "0                  48276.0                       0.0   \n",
       "1                  58604.0                       0.0   \n",
       "2                  99449.0                       0.0   \n",
       "3                 195525.0                       0.0   \n",
       "4                 251280.0                       0.0   \n",
       "5                 365965.0                       0.0   \n",
       "6                 549381.0                       0.0   \n",
       "7                 759008.0                       0.0   \n",
       "8                 835058.0                       0.0   \n",
       "9                1277104.0                       0.0   \n",
       "\n",
       "   Male (Doses Administered)  Female (Doses Administered)  \\\n",
       "0                        NaN                          NaN   \n",
       "1                        NaN                          NaN   \n",
       "2                        NaN                          NaN   \n",
       "3                        NaN                          NaN   \n",
       "4                        NaN                          NaN   \n",
       "5                        NaN                          NaN   \n",
       "6                        NaN                          NaN   \n",
       "7                        NaN                          NaN   \n",
       "8                        NaN                          NaN   \n",
       "9                        NaN                          NaN   \n",
       "\n",
       "   Transgender (Doses Administered)  ...  18-44 Years (Doses Administered)  \\\n",
       "0                               NaN  ...                               NaN   \n",
       "1                               NaN  ...                               NaN   \n",
       "2                               NaN  ...                               NaN   \n",
       "3                               NaN  ...                               NaN   \n",
       "4                               NaN  ...                               NaN   \n",
       "5                               NaN  ...                               NaN   \n",
       "6                               NaN  ...                               NaN   \n",
       "7                               NaN  ...                               NaN   \n",
       "8                               NaN  ...                               NaN   \n",
       "9                               NaN  ...                               NaN   \n",
       "\n",
       "   45-60 Years (Doses Administered)  60+ Years (Doses Administered)  \\\n",
       "0                               NaN                             NaN   \n",
       "1                               NaN                             NaN   \n",
       "2                               NaN                             NaN   \n",
       "3                               NaN                             NaN   \n",
       "4                               NaN                             NaN   \n",
       "5                               NaN                             NaN   \n",
       "6                               NaN                             NaN   \n",
       "7                               NaN                             NaN   \n",
       "8                               NaN                             NaN   \n",
       "9                               NaN                             NaN   \n",
       "\n",
       "   18-44 Years(Individuals Vaccinated)  45-60 Years(Individuals Vaccinated)  \\\n",
       "0                                  NaN                                  NaN   \n",
       "1                                  NaN                                  NaN   \n",
       "2                                  NaN                                  NaN   \n",
       "3                                  NaN                                  NaN   \n",
       "4                                  NaN                                  NaN   \n",
       "5                                  NaN                                  NaN   \n",
       "6                                  NaN                                  NaN   \n",
       "7                                  NaN                                  NaN   \n",
       "8                                  NaN                                  NaN   \n",
       "9                                  NaN                                  NaN   \n",
       "\n",
       "   60+ Years(Individuals Vaccinated)  Male(Individuals Vaccinated)  \\\n",
       "0                                NaN                       23757.0   \n",
       "1                                NaN                       27348.0   \n",
       "2                                NaN                       41361.0   \n",
       "3                                NaN                       81901.0   \n",
       "4                                NaN                       98111.0   \n",
       "5                                NaN                      132784.0   \n",
       "6                                NaN                      193899.0   \n",
       "7                                NaN                      267856.0   \n",
       "8                                NaN                      296283.0   \n",
       "9                                NaN                      444137.0   \n",
       "\n",
       "   Female(Individuals Vaccinated)  Transgender(Individuals Vaccinated)  \\\n",
       "0                         24517.0                                  2.0   \n",
       "1                         31252.0                                  4.0   \n",
       "2                         58083.0                                  5.0   \n",
       "3                        113613.0                                 11.0   \n",
       "4                        153145.0                                 24.0   \n",
       "5                        233143.0                                 38.0   \n",
       "6                        355402.0                                 80.0   \n",
       "7                        491049.0                                103.0   \n",
       "8                        538647.0                                128.0   \n",
       "9                        832766.0                                201.0   \n",
       "\n",
       "   Total Individuals Vaccinated  \n",
       "0                       48276.0  \n",
       "1                       58604.0  \n",
       "2                       99449.0  \n",
       "3                      195525.0  \n",
       "4                      251280.0  \n",
       "5                      365965.0  \n",
       "6                      549381.0  \n",
       "7                      759008.0  \n",
       "8                      835058.0  \n",
       "9                     1277104.0  \n",
       "\n",
       "[10 rows x 24 columns]"
      ]
     },
     "execution_count": 85,
     "metadata": {},
     "output_type": "execute_result"
    }
   ],
   "source": [
    "vaccine_df.head(10)"
   ]
  },
  {
   "cell_type": "code",
   "execution_count": 89,
   "metadata": {},
   "outputs": [],
   "source": [
    "vaccination = vaccine_df.drop(\n",
    "    columns=['Sputnik V (Doses Administered)', 'AEFI', \n",
    "             '18-44 Years (Doses Administered)', '45-60 Years (Doses Administered)', \n",
    "             '60+ Years (Doses Administered)'],\n",
    "    axis=1\n",
    ")"
   ]
  },
  {
   "cell_type": "code",
   "execution_count": 90,
   "metadata": {},
   "outputs": [
    {
     "data": {
      "text/html": [
       "<div>\n",
       "<style scoped>\n",
       "    .dataframe tbody tr th:only-of-type {\n",
       "        vertical-align: middle;\n",
       "    }\n",
       "\n",
       "    .dataframe tbody tr th {\n",
       "        vertical-align: top;\n",
       "    }\n",
       "\n",
       "    .dataframe thead th {\n",
       "        text-align: right;\n",
       "    }\n",
       "</style>\n",
       "<table border=\"1\" class=\"dataframe\">\n",
       "  <thead>\n",
       "    <tr style=\"text-align: right;\">\n",
       "      <th></th>\n",
       "      <th>Vaccine_Date</th>\n",
       "      <th>State</th>\n",
       "      <th>Total Doses Administered</th>\n",
       "      <th>Sessions</th>\n",
       "      <th>Sites</th>\n",
       "      <th>First Dose Administered</th>\n",
       "      <th>Second Dose Administered</th>\n",
       "      <th>Male (Doses Administered)</th>\n",
       "      <th>Female (Doses Administered)</th>\n",
       "      <th>Transgender (Doses Administered)</th>\n",
       "      <th>...</th>\n",
       "      <th>18-44 Years (Doses Administered)</th>\n",
       "      <th>45-60 Years (Doses Administered)</th>\n",
       "      <th>60+ Years (Doses Administered)</th>\n",
       "      <th>18-44 Years(Individuals Vaccinated)</th>\n",
       "      <th>45-60 Years(Individuals Vaccinated)</th>\n",
       "      <th>60+ Years(Individuals Vaccinated)</th>\n",
       "      <th>Male(Individuals Vaccinated)</th>\n",
       "      <th>Female(Individuals Vaccinated)</th>\n",
       "      <th>Transgender(Individuals Vaccinated)</th>\n",
       "      <th>Total Individuals Vaccinated</th>\n",
       "    </tr>\n",
       "  </thead>\n",
       "  <tbody>\n",
       "    <tr>\n",
       "      <th>0</th>\n",
       "      <td>16/01/2021</td>\n",
       "      <td>India</td>\n",
       "      <td>48276.0</td>\n",
       "      <td>3455.0</td>\n",
       "      <td>2957.0</td>\n",
       "      <td>48276.0</td>\n",
       "      <td>0.0</td>\n",
       "      <td>NaN</td>\n",
       "      <td>NaN</td>\n",
       "      <td>NaN</td>\n",
       "      <td>...</td>\n",
       "      <td>NaN</td>\n",
       "      <td>NaN</td>\n",
       "      <td>NaN</td>\n",
       "      <td>NaN</td>\n",
       "      <td>NaN</td>\n",
       "      <td>NaN</td>\n",
       "      <td>23757.0</td>\n",
       "      <td>24517.0</td>\n",
       "      <td>2.0</td>\n",
       "      <td>48276.0</td>\n",
       "    </tr>\n",
       "    <tr>\n",
       "      <th>1</th>\n",
       "      <td>17/01/2021</td>\n",
       "      <td>India</td>\n",
       "      <td>58604.0</td>\n",
       "      <td>8532.0</td>\n",
       "      <td>4954.0</td>\n",
       "      <td>58604.0</td>\n",
       "      <td>0.0</td>\n",
       "      <td>NaN</td>\n",
       "      <td>NaN</td>\n",
       "      <td>NaN</td>\n",
       "      <td>...</td>\n",
       "      <td>NaN</td>\n",
       "      <td>NaN</td>\n",
       "      <td>NaN</td>\n",
       "      <td>NaN</td>\n",
       "      <td>NaN</td>\n",
       "      <td>NaN</td>\n",
       "      <td>27348.0</td>\n",
       "      <td>31252.0</td>\n",
       "      <td>4.0</td>\n",
       "      <td>58604.0</td>\n",
       "    </tr>\n",
       "    <tr>\n",
       "      <th>2</th>\n",
       "      <td>18/01/2021</td>\n",
       "      <td>India</td>\n",
       "      <td>99449.0</td>\n",
       "      <td>13611.0</td>\n",
       "      <td>6583.0</td>\n",
       "      <td>99449.0</td>\n",
       "      <td>0.0</td>\n",
       "      <td>NaN</td>\n",
       "      <td>NaN</td>\n",
       "      <td>NaN</td>\n",
       "      <td>...</td>\n",
       "      <td>NaN</td>\n",
       "      <td>NaN</td>\n",
       "      <td>NaN</td>\n",
       "      <td>NaN</td>\n",
       "      <td>NaN</td>\n",
       "      <td>NaN</td>\n",
       "      <td>41361.0</td>\n",
       "      <td>58083.0</td>\n",
       "      <td>5.0</td>\n",
       "      <td>99449.0</td>\n",
       "    </tr>\n",
       "    <tr>\n",
       "      <th>3</th>\n",
       "      <td>19/01/2021</td>\n",
       "      <td>India</td>\n",
       "      <td>195525.0</td>\n",
       "      <td>17855.0</td>\n",
       "      <td>7951.0</td>\n",
       "      <td>195525.0</td>\n",
       "      <td>0.0</td>\n",
       "      <td>NaN</td>\n",
       "      <td>NaN</td>\n",
       "      <td>NaN</td>\n",
       "      <td>...</td>\n",
       "      <td>NaN</td>\n",
       "      <td>NaN</td>\n",
       "      <td>NaN</td>\n",
       "      <td>NaN</td>\n",
       "      <td>NaN</td>\n",
       "      <td>NaN</td>\n",
       "      <td>81901.0</td>\n",
       "      <td>113613.0</td>\n",
       "      <td>11.0</td>\n",
       "      <td>195525.0</td>\n",
       "    </tr>\n",
       "    <tr>\n",
       "      <th>4</th>\n",
       "      <td>20/01/2021</td>\n",
       "      <td>India</td>\n",
       "      <td>251280.0</td>\n",
       "      <td>25472.0</td>\n",
       "      <td>10504.0</td>\n",
       "      <td>251280.0</td>\n",
       "      <td>0.0</td>\n",
       "      <td>NaN</td>\n",
       "      <td>NaN</td>\n",
       "      <td>NaN</td>\n",
       "      <td>...</td>\n",
       "      <td>NaN</td>\n",
       "      <td>NaN</td>\n",
       "      <td>NaN</td>\n",
       "      <td>NaN</td>\n",
       "      <td>NaN</td>\n",
       "      <td>NaN</td>\n",
       "      <td>98111.0</td>\n",
       "      <td>153145.0</td>\n",
       "      <td>24.0</td>\n",
       "      <td>251280.0</td>\n",
       "    </tr>\n",
       "  </tbody>\n",
       "</table>\n",
       "<p>5 rows × 24 columns</p>\n",
       "</div>"
      ],
      "text/plain": [
       "  Vaccine_Date  State  Total Doses Administered  Sessions   Sites   \\\n",
       "0   16/01/2021  India                   48276.0    3455.0   2957.0   \n",
       "1   17/01/2021  India                   58604.0    8532.0   4954.0   \n",
       "2   18/01/2021  India                   99449.0   13611.0   6583.0   \n",
       "3   19/01/2021  India                  195525.0   17855.0   7951.0   \n",
       "4   20/01/2021  India                  251280.0   25472.0  10504.0   \n",
       "\n",
       "   First Dose Administered  Second Dose Administered  \\\n",
       "0                  48276.0                       0.0   \n",
       "1                  58604.0                       0.0   \n",
       "2                  99449.0                       0.0   \n",
       "3                 195525.0                       0.0   \n",
       "4                 251280.0                       0.0   \n",
       "\n",
       "   Male (Doses Administered)  Female (Doses Administered)  \\\n",
       "0                        NaN                          NaN   \n",
       "1                        NaN                          NaN   \n",
       "2                        NaN                          NaN   \n",
       "3                        NaN                          NaN   \n",
       "4                        NaN                          NaN   \n",
       "\n",
       "   Transgender (Doses Administered)  ...  18-44 Years (Doses Administered)  \\\n",
       "0                               NaN  ...                               NaN   \n",
       "1                               NaN  ...                               NaN   \n",
       "2                               NaN  ...                               NaN   \n",
       "3                               NaN  ...                               NaN   \n",
       "4                               NaN  ...                               NaN   \n",
       "\n",
       "   45-60 Years (Doses Administered)  60+ Years (Doses Administered)  \\\n",
       "0                               NaN                             NaN   \n",
       "1                               NaN                             NaN   \n",
       "2                               NaN                             NaN   \n",
       "3                               NaN                             NaN   \n",
       "4                               NaN                             NaN   \n",
       "\n",
       "   18-44 Years(Individuals Vaccinated)  45-60 Years(Individuals Vaccinated)  \\\n",
       "0                                  NaN                                  NaN   \n",
       "1                                  NaN                                  NaN   \n",
       "2                                  NaN                                  NaN   \n",
       "3                                  NaN                                  NaN   \n",
       "4                                  NaN                                  NaN   \n",
       "\n",
       "   60+ Years(Individuals Vaccinated)  Male(Individuals Vaccinated)  \\\n",
       "0                                NaN                       23757.0   \n",
       "1                                NaN                       27348.0   \n",
       "2                                NaN                       41361.0   \n",
       "3                                NaN                       81901.0   \n",
       "4                                NaN                       98111.0   \n",
       "\n",
       "   Female(Individuals Vaccinated)  Transgender(Individuals Vaccinated)  \\\n",
       "0                         24517.0                                  2.0   \n",
       "1                         31252.0                                  4.0   \n",
       "2                         58083.0                                  5.0   \n",
       "3                        113613.0                                 11.0   \n",
       "4                        153145.0                                 24.0   \n",
       "\n",
       "   Total Individuals Vaccinated  \n",
       "0                       48276.0  \n",
       "1                       58604.0  \n",
       "2                       99449.0  \n",
       "3                      195525.0  \n",
       "4                      251280.0  \n",
       "\n",
       "[5 rows x 24 columns]"
      ]
     },
     "execution_count": 90,
     "metadata": {},
     "output_type": "execute_result"
    }
   ],
   "source": [
    "vaccine_df.head()"
   ]
  },
  {
   "cell_type": "code",
   "execution_count": 92,
   "metadata": {},
   "outputs": [
    {
     "data": {
      "application/vnd.plotly.v1+json": {
       "config": {
        "plotlyServerURL": "https://plot.ly"
       },
       "data": [
        {
         "domain": {
          "x": [
           0,
           1
          ],
          "y": [
           0,
           1
          ]
         },
         "hovertemplate": "label=%{label}<br>value=%{value}<extra></extra>",
         "labels": [
          "Male",
          "Female"
         ],
         "legendgroup": "",
         "name": "",
         "showlegend": true,
         "type": "pie",
         "values": {
          "bdata": "AACgZv6X+kEAAABkxoz3QQ==",
          "dtype": "f8"
         }
        }
       ],
       "layout": {
        "legend": {
         "tracegroupgap": 0
        },
        "template": {
         "data": {
          "bar": [
           {
            "error_x": {
             "color": "#2a3f5f"
            },
            "error_y": {
             "color": "#2a3f5f"
            },
            "marker": {
             "line": {
              "color": "#E5ECF6",
              "width": 0.5
             },
             "pattern": {
              "fillmode": "overlay",
              "size": 10,
              "solidity": 0.2
             }
            },
            "type": "bar"
           }
          ],
          "barpolar": [
           {
            "marker": {
             "line": {
              "color": "#E5ECF6",
              "width": 0.5
             },
             "pattern": {
              "fillmode": "overlay",
              "size": 10,
              "solidity": 0.2
             }
            },
            "type": "barpolar"
           }
          ],
          "carpet": [
           {
            "aaxis": {
             "endlinecolor": "#2a3f5f",
             "gridcolor": "white",
             "linecolor": "white",
             "minorgridcolor": "white",
             "startlinecolor": "#2a3f5f"
            },
            "baxis": {
             "endlinecolor": "#2a3f5f",
             "gridcolor": "white",
             "linecolor": "white",
             "minorgridcolor": "white",
             "startlinecolor": "#2a3f5f"
            },
            "type": "carpet"
           }
          ],
          "choropleth": [
           {
            "colorbar": {
             "outlinewidth": 0,
             "ticks": ""
            },
            "type": "choropleth"
           }
          ],
          "contour": [
           {
            "colorbar": {
             "outlinewidth": 0,
             "ticks": ""
            },
            "colorscale": [
             [
              0,
              "#0d0887"
             ],
             [
              0.1111111111111111,
              "#46039f"
             ],
             [
              0.2222222222222222,
              "#7201a8"
             ],
             [
              0.3333333333333333,
              "#9c179e"
             ],
             [
              0.4444444444444444,
              "#bd3786"
             ],
             [
              0.5555555555555556,
              "#d8576b"
             ],
             [
              0.6666666666666666,
              "#ed7953"
             ],
             [
              0.7777777777777778,
              "#fb9f3a"
             ],
             [
              0.8888888888888888,
              "#fdca26"
             ],
             [
              1,
              "#f0f921"
             ]
            ],
            "type": "contour"
           }
          ],
          "contourcarpet": [
           {
            "colorbar": {
             "outlinewidth": 0,
             "ticks": ""
            },
            "type": "contourcarpet"
           }
          ],
          "heatmap": [
           {
            "colorbar": {
             "outlinewidth": 0,
             "ticks": ""
            },
            "colorscale": [
             [
              0,
              "#0d0887"
             ],
             [
              0.1111111111111111,
              "#46039f"
             ],
             [
              0.2222222222222222,
              "#7201a8"
             ],
             [
              0.3333333333333333,
              "#9c179e"
             ],
             [
              0.4444444444444444,
              "#bd3786"
             ],
             [
              0.5555555555555556,
              "#d8576b"
             ],
             [
              0.6666666666666666,
              "#ed7953"
             ],
             [
              0.7777777777777778,
              "#fb9f3a"
             ],
             [
              0.8888888888888888,
              "#fdca26"
             ],
             [
              1,
              "#f0f921"
             ]
            ],
            "type": "heatmap"
           }
          ],
          "histogram": [
           {
            "marker": {
             "pattern": {
              "fillmode": "overlay",
              "size": 10,
              "solidity": 0.2
             }
            },
            "type": "histogram"
           }
          ],
          "histogram2d": [
           {
            "colorbar": {
             "outlinewidth": 0,
             "ticks": ""
            },
            "colorscale": [
             [
              0,
              "#0d0887"
             ],
             [
              0.1111111111111111,
              "#46039f"
             ],
             [
              0.2222222222222222,
              "#7201a8"
             ],
             [
              0.3333333333333333,
              "#9c179e"
             ],
             [
              0.4444444444444444,
              "#bd3786"
             ],
             [
              0.5555555555555556,
              "#d8576b"
             ],
             [
              0.6666666666666666,
              "#ed7953"
             ],
             [
              0.7777777777777778,
              "#fb9f3a"
             ],
             [
              0.8888888888888888,
              "#fdca26"
             ],
             [
              1,
              "#f0f921"
             ]
            ],
            "type": "histogram2d"
           }
          ],
          "histogram2dcontour": [
           {
            "colorbar": {
             "outlinewidth": 0,
             "ticks": ""
            },
            "colorscale": [
             [
              0,
              "#0d0887"
             ],
             [
              0.1111111111111111,
              "#46039f"
             ],
             [
              0.2222222222222222,
              "#7201a8"
             ],
             [
              0.3333333333333333,
              "#9c179e"
             ],
             [
              0.4444444444444444,
              "#bd3786"
             ],
             [
              0.5555555555555556,
              "#d8576b"
             ],
             [
              0.6666666666666666,
              "#ed7953"
             ],
             [
              0.7777777777777778,
              "#fb9f3a"
             ],
             [
              0.8888888888888888,
              "#fdca26"
             ],
             [
              1,
              "#f0f921"
             ]
            ],
            "type": "histogram2dcontour"
           }
          ],
          "mesh3d": [
           {
            "colorbar": {
             "outlinewidth": 0,
             "ticks": ""
            },
            "type": "mesh3d"
           }
          ],
          "parcoords": [
           {
            "line": {
             "colorbar": {
              "outlinewidth": 0,
              "ticks": ""
             }
            },
            "type": "parcoords"
           }
          ],
          "pie": [
           {
            "automargin": true,
            "type": "pie"
           }
          ],
          "scatter": [
           {
            "fillpattern": {
             "fillmode": "overlay",
             "size": 10,
             "solidity": 0.2
            },
            "type": "scatter"
           }
          ],
          "scatter3d": [
           {
            "line": {
             "colorbar": {
              "outlinewidth": 0,
              "ticks": ""
             }
            },
            "marker": {
             "colorbar": {
              "outlinewidth": 0,
              "ticks": ""
             }
            },
            "type": "scatter3d"
           }
          ],
          "scattercarpet": [
           {
            "marker": {
             "colorbar": {
              "outlinewidth": 0,
              "ticks": ""
             }
            },
            "type": "scattercarpet"
           }
          ],
          "scattergeo": [
           {
            "marker": {
             "colorbar": {
              "outlinewidth": 0,
              "ticks": ""
             }
            },
            "type": "scattergeo"
           }
          ],
          "scattergl": [
           {
            "marker": {
             "colorbar": {
              "outlinewidth": 0,
              "ticks": ""
             }
            },
            "type": "scattergl"
           }
          ],
          "scattermap": [
           {
            "marker": {
             "colorbar": {
              "outlinewidth": 0,
              "ticks": ""
             }
            },
            "type": "scattermap"
           }
          ],
          "scattermapbox": [
           {
            "marker": {
             "colorbar": {
              "outlinewidth": 0,
              "ticks": ""
             }
            },
            "type": "scattermapbox"
           }
          ],
          "scatterpolar": [
           {
            "marker": {
             "colorbar": {
              "outlinewidth": 0,
              "ticks": ""
             }
            },
            "type": "scatterpolar"
           }
          ],
          "scatterpolargl": [
           {
            "marker": {
             "colorbar": {
              "outlinewidth": 0,
              "ticks": ""
             }
            },
            "type": "scatterpolargl"
           }
          ],
          "scatterternary": [
           {
            "marker": {
             "colorbar": {
              "outlinewidth": 0,
              "ticks": ""
             }
            },
            "type": "scatterternary"
           }
          ],
          "surface": [
           {
            "colorbar": {
             "outlinewidth": 0,
             "ticks": ""
            },
            "colorscale": [
             [
              0,
              "#0d0887"
             ],
             [
              0.1111111111111111,
              "#46039f"
             ],
             [
              0.2222222222222222,
              "#7201a8"
             ],
             [
              0.3333333333333333,
              "#9c179e"
             ],
             [
              0.4444444444444444,
              "#bd3786"
             ],
             [
              0.5555555555555556,
              "#d8576b"
             ],
             [
              0.6666666666666666,
              "#ed7953"
             ],
             [
              0.7777777777777778,
              "#fb9f3a"
             ],
             [
              0.8888888888888888,
              "#fdca26"
             ],
             [
              1,
              "#f0f921"
             ]
            ],
            "type": "surface"
           }
          ],
          "table": [
           {
            "cells": {
             "fill": {
              "color": "#EBF0F8"
             },
             "line": {
              "color": "white"
             }
            },
            "header": {
             "fill": {
              "color": "#C8D4E3"
             },
             "line": {
              "color": "white"
             }
            },
            "type": "table"
           }
          ]
         },
         "layout": {
          "annotationdefaults": {
           "arrowcolor": "#2a3f5f",
           "arrowhead": 0,
           "arrowwidth": 1
          },
          "autotypenumbers": "strict",
          "coloraxis": {
           "colorbar": {
            "outlinewidth": 0,
            "ticks": ""
           }
          },
          "colorscale": {
           "diverging": [
            [
             0,
             "#8e0152"
            ],
            [
             0.1,
             "#c51b7d"
            ],
            [
             0.2,
             "#de77ae"
            ],
            [
             0.3,
             "#f1b6da"
            ],
            [
             0.4,
             "#fde0ef"
            ],
            [
             0.5,
             "#f7f7f7"
            ],
            [
             0.6,
             "#e6f5d0"
            ],
            [
             0.7,
             "#b8e186"
            ],
            [
             0.8,
             "#7fbc41"
            ],
            [
             0.9,
             "#4d9221"
            ],
            [
             1,
             "#276419"
            ]
           ],
           "sequential": [
            [
             0,
             "#0d0887"
            ],
            [
             0.1111111111111111,
             "#46039f"
            ],
            [
             0.2222222222222222,
             "#7201a8"
            ],
            [
             0.3333333333333333,
             "#9c179e"
            ],
            [
             0.4444444444444444,
             "#bd3786"
            ],
            [
             0.5555555555555556,
             "#d8576b"
            ],
            [
             0.6666666666666666,
             "#ed7953"
            ],
            [
             0.7777777777777778,
             "#fb9f3a"
            ],
            [
             0.8888888888888888,
             "#fdca26"
            ],
            [
             1,
             "#f0f921"
            ]
           ],
           "sequentialminus": [
            [
             0,
             "#0d0887"
            ],
            [
             0.1111111111111111,
             "#46039f"
            ],
            [
             0.2222222222222222,
             "#7201a8"
            ],
            [
             0.3333333333333333,
             "#9c179e"
            ],
            [
             0.4444444444444444,
             "#bd3786"
            ],
            [
             0.5555555555555556,
             "#d8576b"
            ],
            [
             0.6666666666666666,
             "#ed7953"
            ],
            [
             0.7777777777777778,
             "#fb9f3a"
            ],
            [
             0.8888888888888888,
             "#fdca26"
            ],
            [
             1,
             "#f0f921"
            ]
           ]
          },
          "colorway": [
           "#636efa",
           "#EF553B",
           "#00cc96",
           "#ab63fa",
           "#FFA15A",
           "#19d3f3",
           "#FF6692",
           "#B6E880",
           "#FF97FF",
           "#FECB52"
          ],
          "font": {
           "color": "#2a3f5f"
          },
          "geo": {
           "bgcolor": "white",
           "lakecolor": "white",
           "landcolor": "#E5ECF6",
           "showlakes": true,
           "showland": true,
           "subunitcolor": "white"
          },
          "hoverlabel": {
           "align": "left"
          },
          "hovermode": "closest",
          "mapbox": {
           "style": "light"
          },
          "paper_bgcolor": "white",
          "plot_bgcolor": "#E5ECF6",
          "polar": {
           "angularaxis": {
            "gridcolor": "white",
            "linecolor": "white",
            "ticks": ""
           },
           "bgcolor": "#E5ECF6",
           "radialaxis": {
            "gridcolor": "white",
            "linecolor": "white",
            "ticks": ""
           }
          },
          "scene": {
           "xaxis": {
            "backgroundcolor": "#E5ECF6",
            "gridcolor": "white",
            "gridwidth": 2,
            "linecolor": "white",
            "showbackground": true,
            "ticks": "",
            "zerolinecolor": "white"
           },
           "yaxis": {
            "backgroundcolor": "#E5ECF6",
            "gridcolor": "white",
            "gridwidth": 2,
            "linecolor": "white",
            "showbackground": true,
            "ticks": "",
            "zerolinecolor": "white"
           },
           "zaxis": {
            "backgroundcolor": "#E5ECF6",
            "gridcolor": "white",
            "gridwidth": 2,
            "linecolor": "white",
            "showbackground": true,
            "ticks": "",
            "zerolinecolor": "white"
           }
          },
          "shapedefaults": {
           "line": {
            "color": "#2a3f5f"
           }
          },
          "ternary": {
           "aaxis": {
            "gridcolor": "white",
            "linecolor": "white",
            "ticks": ""
           },
           "baxis": {
            "gridcolor": "white",
            "linecolor": "white",
            "ticks": ""
           },
           "bgcolor": "#E5ECF6",
           "caxis": {
            "gridcolor": "white",
            "linecolor": "white",
            "ticks": ""
           }
          },
          "title": {
           "x": 0.05
          },
          "xaxis": {
           "automargin": true,
           "gridcolor": "white",
           "linecolor": "white",
           "ticks": "",
           "title": {
            "standoff": 15
           },
           "zerolinecolor": "white",
           "zerolinewidth": 2
          },
          "yaxis": {
           "automargin": true,
           "gridcolor": "white",
           "linecolor": "white",
           "ticks": "",
           "title": {
            "standoff": 15
           },
           "zerolinecolor": "white",
           "zerolinewidth": 2
          }
         }
        },
        "title": {
         "text": "Male and Female Vaccination"
        }
       }
      }
     },
     "metadata": {},
     "output_type": "display_data"
    }
   ],
   "source": [
    "#Male vs Female vaccination\n",
    "male=vaccination[\"Male(Individuals Vaccinated)\"].sum()\n",
    "female=vaccination[\"Female(Individuals Vaccinated)\"].sum()\n",
    "px.pie(names=[\"Male\",\"Female\"],values=[male,female],title=\"Male and Female Vaccination\")"
   ]
  },
  {
   "cell_type": "code",
   "execution_count": null,
   "metadata": {},
   "outputs": [],
   "source": []
  }
 ],
 "metadata": {
  "kernelspec": {
   "display_name": "Python 3",
   "language": "python",
   "name": "python3"
  },
  "language_info": {
   "codemirror_mode": {
    "name": "ipython",
    "version": 3
   },
   "file_extension": ".py",
   "mimetype": "text/x-python",
   "name": "python",
   "nbconvert_exporter": "python",
   "pygments_lexer": "ipython3",
   "version": "3.13.2"
  }
 },
 "nbformat": 4,
 "nbformat_minor": 2
}
